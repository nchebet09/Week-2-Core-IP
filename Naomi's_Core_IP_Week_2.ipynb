{
  "nbformat": 4,
  "nbformat_minor": 0,
  "metadata": {
    "colab": {
      "name": "Naomi's Core IP Week 2",
      "provenance": [],
      "collapsed_sections": [],
      "toc_visible": true,
      "authorship_tag": "ABX9TyNsHCglTmzEgXvGVwQvbs7w",
      "include_colab_link": true
    },
    "kernelspec": {
      "name": "python3",
      "display_name": "Python 3"
    }
  },
  "cells": [
    {
      "cell_type": "markdown",
      "metadata": {
        "id": "view-in-github",
        "colab_type": "text"
      },
      "source": [
        "<a href=\"https://colab.research.google.com/github/nchebet09/Week-2-Core-IP/blob/master/Naomi's_Core_IP_Week_2.ipynb\" target=\"_parent\"><img src=\"https://colab.research.google.com/assets/colab-badge.svg\" alt=\"Open In Colab\"/></a>"
      ]
    },
    {
      "cell_type": "markdown",
      "metadata": {
        "id": "lxOy3CLEObnE",
        "colab_type": "text"
      },
      "source": [
        "### **SECTION 1:** Defining the data analytical question"
      ]
    },
    {
      "cell_type": "markdown",
      "metadata": {
        "id": "1ULDb1ibOx3T",
        "colab_type": "text"
      },
      "source": [
        "### a.) Specifying the data analytic question"
      ]
    },
    {
      "cell_type": "markdown",
      "metadata": {
        "id": "eWTV4ZmBPUVx",
        "colab_type": "text"
      },
      "source": [
        "  > The research problem is to figure out how we can predict which individuals are **most likely to have or use a bank account**. "
      ]
    },
    {
      "cell_type": "markdown",
      "metadata": {
        "id": "JZ9oWzjEP59b",
        "colab_type": "text"
      },
      "source": [
        "### b.) Defining the metric for success\n",
        "  >Our metric of success will be demonstrated by our ability to show the individuals who use a bank account or who are like to use a bank account. "
      ]
    },
    {
      "cell_type": "markdown",
      "metadata": {
        "id": "HuldewMdQCWK",
        "colab_type": "text"
      },
      "source": [
        "### c.) Understanding the context"
      ]
    },
    {
      "cell_type": "markdown",
      "metadata": {
        "id": "48q8vVSWRNEd",
        "colab_type": "text"
      },
      "source": [
        "### d.) Recording the Experimental Design\n",
        "\n",
        "  > Here is the breakdown of the process:\n",
        "   1. Started with loading data, and previewing the top and bottom rows\n",
        "   2. Explored the data a bit to understand the kind of dataset we have\n",
        "   3. Validated the data from outside source\n",
        "   4. Cleaning data\n",
        "   5. Univariate Analysis\n",
        "   6. Bivariate Analysis\n",
        "   7. Multivariate Analysis\n",
        "   8. Conclusion\n",
        "   9. Challenging the data\n"
      ]
    },
    {
      "cell_type": "markdown",
      "metadata": {
        "id": "tR7ZvqOrRTHn",
        "colab_type": "text"
      },
      "source": [
        "### e.) Data Relevance"
      ]
    },
    {
      "cell_type": "markdown",
      "metadata": {
        "id": "kkMOcdbjRsX-",
        "colab_type": "text"
      },
      "source": [
        "## **SECTION 2:** Reading and checking the dataset"
      ]
    },
    {
      "cell_type": "code",
      "metadata": {
        "id": "P8ITFZbcCuRb",
        "colab_type": "code",
        "colab": {
          "base_uri": "https://localhost:8080/",
          "height": 412
        },
        "outputId": "c0df7002-dd57-498e-fbad-93967ed26a89"
      },
      "source": [
        "import pandas as pd\n",
        "import numpy as np\n",
        "import matplotlib.pyplot as plt\n",
        "\n",
        "import seaborn as sns\n",
        "\n",
        "#Dataset link = ('http://bit.ly/FinancialDataset')\n",
        "financial = pd.read_csv('http://bit.ly/FinancialDataset')\n",
        "financial. head()"
      ],
      "execution_count": 1,
      "outputs": [
        {
          "output_type": "stream",
          "text": [
            "/usr/local/lib/python3.6/dist-packages/statsmodels/tools/_testing.py:19: FutureWarning: pandas.util.testing is deprecated. Use the functions in the public API at pandas.testing instead.\n",
            "  import pandas.util.testing as tm\n"
          ],
          "name": "stderr"
        },
        {
          "output_type": "execute_result",
          "data": {
            "text/html": [
              "<div>\n",
              "<style scoped>\n",
              "    .dataframe tbody tr th:only-of-type {\n",
              "        vertical-align: middle;\n",
              "    }\n",
              "\n",
              "    .dataframe tbody tr th {\n",
              "        vertical-align: top;\n",
              "    }\n",
              "\n",
              "    .dataframe thead th {\n",
              "        text-align: right;\n",
              "    }\n",
              "</style>\n",
              "<table border=\"1\" class=\"dataframe\">\n",
              "  <thead>\n",
              "    <tr style=\"text-align: right;\">\n",
              "      <th></th>\n",
              "      <th>country</th>\n",
              "      <th>year</th>\n",
              "      <th>uniqueid</th>\n",
              "      <th>Has a Bank account</th>\n",
              "      <th>Type of Location</th>\n",
              "      <th>Cell Phone Access</th>\n",
              "      <th>household_size</th>\n",
              "      <th>Respondent Age</th>\n",
              "      <th>gender_of_respondent</th>\n",
              "      <th>The relathip with head</th>\n",
              "      <th>marital_status</th>\n",
              "      <th>Level of Educuation</th>\n",
              "      <th>Type of Job</th>\n",
              "    </tr>\n",
              "  </thead>\n",
              "  <tbody>\n",
              "    <tr>\n",
              "      <th>0</th>\n",
              "      <td>Kenya</td>\n",
              "      <td>2018</td>\n",
              "      <td>uniqueid_1</td>\n",
              "      <td>Yes</td>\n",
              "      <td>Rural</td>\n",
              "      <td>Yes</td>\n",
              "      <td>3.0</td>\n",
              "      <td>24.0</td>\n",
              "      <td>Female</td>\n",
              "      <td>Spouse</td>\n",
              "      <td>Married/Living together</td>\n",
              "      <td>Secondary education</td>\n",
              "      <td>Self employed</td>\n",
              "    </tr>\n",
              "    <tr>\n",
              "      <th>1</th>\n",
              "      <td>Kenya</td>\n",
              "      <td>2018</td>\n",
              "      <td>uniqueid_2</td>\n",
              "      <td>No</td>\n",
              "      <td>Rural</td>\n",
              "      <td>No</td>\n",
              "      <td>5.0</td>\n",
              "      <td>70.0</td>\n",
              "      <td>Female</td>\n",
              "      <td>Head of Household</td>\n",
              "      <td>Widowed</td>\n",
              "      <td>No formal education</td>\n",
              "      <td>Government Dependent</td>\n",
              "    </tr>\n",
              "    <tr>\n",
              "      <th>2</th>\n",
              "      <td>Kenya</td>\n",
              "      <td>2018</td>\n",
              "      <td>uniqueid_3</td>\n",
              "      <td>Yes</td>\n",
              "      <td>Urban</td>\n",
              "      <td>Yes</td>\n",
              "      <td>5.0</td>\n",
              "      <td>26.0</td>\n",
              "      <td>Male</td>\n",
              "      <td>Other relative</td>\n",
              "      <td>Single/Never Married</td>\n",
              "      <td>Vocational/Specialised training</td>\n",
              "      <td>Self employed</td>\n",
              "    </tr>\n",
              "    <tr>\n",
              "      <th>3</th>\n",
              "      <td>Kenya</td>\n",
              "      <td>2018</td>\n",
              "      <td>uniqueid_4</td>\n",
              "      <td>No</td>\n",
              "      <td>Rural</td>\n",
              "      <td>Yes</td>\n",
              "      <td>5.0</td>\n",
              "      <td>34.0</td>\n",
              "      <td>Female</td>\n",
              "      <td>Head of Household</td>\n",
              "      <td>Married/Living together</td>\n",
              "      <td>Primary education</td>\n",
              "      <td>Formally employed Private</td>\n",
              "    </tr>\n",
              "    <tr>\n",
              "      <th>4</th>\n",
              "      <td>Kenya</td>\n",
              "      <td>2018</td>\n",
              "      <td>uniqueid_5</td>\n",
              "      <td>No</td>\n",
              "      <td>Urban</td>\n",
              "      <td>No</td>\n",
              "      <td>8.0</td>\n",
              "      <td>26.0</td>\n",
              "      <td>Male</td>\n",
              "      <td>Child</td>\n",
              "      <td>Single/Never Married</td>\n",
              "      <td>Primary education</td>\n",
              "      <td>Informally employed</td>\n",
              "    </tr>\n",
              "  </tbody>\n",
              "</table>\n",
              "</div>"
            ],
            "text/plain": [
              "  country  year  ...              Level of Educuation                Type of Job\n",
              "0   Kenya  2018  ...              Secondary education              Self employed\n",
              "1   Kenya  2018  ...              No formal education       Government Dependent\n",
              "2   Kenya  2018  ...  Vocational/Specialised training              Self employed\n",
              "3   Kenya  2018  ...                Primary education  Formally employed Private\n",
              "4   Kenya  2018  ...                Primary education        Informally employed\n",
              "\n",
              "[5 rows x 13 columns]"
            ]
          },
          "metadata": {
            "tags": []
          },
          "execution_count": 1
        }
      ]
    },
    {
      "cell_type": "code",
      "metadata": {
        "id": "LZY-uFBKZYs0",
        "colab_type": "code",
        "colab": {
          "base_uri": "https://localhost:8080/",
          "height": 360
        },
        "outputId": "615c2b27-e7ca-43a8-8bbb-24ae49fe9ff8"
      },
      "source": [
        "# previewing the tail\n",
        "financial.tail()"
      ],
      "execution_count": 2,
      "outputs": [
        {
          "output_type": "execute_result",
          "data": {
            "text/html": [
              "<div>\n",
              "<style scoped>\n",
              "    .dataframe tbody tr th:only-of-type {\n",
              "        vertical-align: middle;\n",
              "    }\n",
              "\n",
              "    .dataframe tbody tr th {\n",
              "        vertical-align: top;\n",
              "    }\n",
              "\n",
              "    .dataframe thead th {\n",
              "        text-align: right;\n",
              "    }\n",
              "</style>\n",
              "<table border=\"1\" class=\"dataframe\">\n",
              "  <thead>\n",
              "    <tr style=\"text-align: right;\">\n",
              "      <th></th>\n",
              "      <th>country</th>\n",
              "      <th>year</th>\n",
              "      <th>uniqueid</th>\n",
              "      <th>Has a Bank account</th>\n",
              "      <th>Type of Location</th>\n",
              "      <th>Cell Phone Access</th>\n",
              "      <th>household_size</th>\n",
              "      <th>Respondent Age</th>\n",
              "      <th>gender_of_respondent</th>\n",
              "      <th>The relathip with head</th>\n",
              "      <th>marital_status</th>\n",
              "      <th>Level of Educuation</th>\n",
              "      <th>Type of Job</th>\n",
              "    </tr>\n",
              "  </thead>\n",
              "  <tbody>\n",
              "    <tr>\n",
              "      <th>23519</th>\n",
              "      <td>Uganda</td>\n",
              "      <td>2018</td>\n",
              "      <td>uniqueid_2113</td>\n",
              "      <td>No</td>\n",
              "      <td>Rural</td>\n",
              "      <td>Yes</td>\n",
              "      <td>4.0</td>\n",
              "      <td>48.0</td>\n",
              "      <td>Female</td>\n",
              "      <td>Head of Household</td>\n",
              "      <td>Divorced/Seperated</td>\n",
              "      <td>No formal education</td>\n",
              "      <td>Other Income</td>\n",
              "    </tr>\n",
              "    <tr>\n",
              "      <th>23520</th>\n",
              "      <td>Uganda</td>\n",
              "      <td>2018</td>\n",
              "      <td>uniqueid_2114</td>\n",
              "      <td>No</td>\n",
              "      <td>Rural</td>\n",
              "      <td>Yes</td>\n",
              "      <td>2.0</td>\n",
              "      <td>27.0</td>\n",
              "      <td>Female</td>\n",
              "      <td>Head of Household</td>\n",
              "      <td>Single/Never Married</td>\n",
              "      <td>Secondary education</td>\n",
              "      <td>Other Income</td>\n",
              "    </tr>\n",
              "    <tr>\n",
              "      <th>23521</th>\n",
              "      <td>Uganda</td>\n",
              "      <td>2018</td>\n",
              "      <td>uniqueid_2115</td>\n",
              "      <td>No</td>\n",
              "      <td>Rural</td>\n",
              "      <td>Yes</td>\n",
              "      <td>5.0</td>\n",
              "      <td>27.0</td>\n",
              "      <td>Female</td>\n",
              "      <td>Parent</td>\n",
              "      <td>Widowed</td>\n",
              "      <td>Primary education</td>\n",
              "      <td>Other Income</td>\n",
              "    </tr>\n",
              "    <tr>\n",
              "      <th>23522</th>\n",
              "      <td>Uganda</td>\n",
              "      <td>2018</td>\n",
              "      <td>uniqueid_2116</td>\n",
              "      <td>No</td>\n",
              "      <td>Urban</td>\n",
              "      <td>Yes</td>\n",
              "      <td>7.0</td>\n",
              "      <td>30.0</td>\n",
              "      <td>Female</td>\n",
              "      <td>Parent</td>\n",
              "      <td>Divorced/Seperated</td>\n",
              "      <td>Secondary education</td>\n",
              "      <td>Self employed</td>\n",
              "    </tr>\n",
              "    <tr>\n",
              "      <th>23523</th>\n",
              "      <td>Uganda</td>\n",
              "      <td>2018</td>\n",
              "      <td>uniqueid_2117</td>\n",
              "      <td>No</td>\n",
              "      <td>Rural</td>\n",
              "      <td>Yes</td>\n",
              "      <td>10.0</td>\n",
              "      <td>20.0</td>\n",
              "      <td>Male</td>\n",
              "      <td>Child</td>\n",
              "      <td>Single/Never Married</td>\n",
              "      <td>Secondary education</td>\n",
              "      <td>No Income</td>\n",
              "    </tr>\n",
              "  </tbody>\n",
              "</table>\n",
              "</div>"
            ],
            "text/plain": [
              "      country  year  ...  Level of Educuation    Type of Job\n",
              "23519  Uganda  2018  ...  No formal education   Other Income\n",
              "23520  Uganda  2018  ...  Secondary education   Other Income\n",
              "23521  Uganda  2018  ...    Primary education   Other Income\n",
              "23522  Uganda  2018  ...  Secondary education  Self employed\n",
              "23523  Uganda  2018  ...  Secondary education      No Income\n",
              "\n",
              "[5 rows x 13 columns]"
            ]
          },
          "metadata": {
            "tags": []
          },
          "execution_count": 2
        }
      ]
    },
    {
      "cell_type": "code",
      "metadata": {
        "id": "4WY8NkpiZfTW",
        "colab_type": "code",
        "colab": {
          "base_uri": "https://localhost:8080/",
          "height": 34
        },
        "outputId": "d95ca5c0-f6c8-421b-bf09-e53c71bbdf8b"
      },
      "source": [
        "# checking the number of records\n",
        "financial.shape"
      ],
      "execution_count": 3,
      "outputs": [
        {
          "output_type": "execute_result",
          "data": {
            "text/plain": [
              "(23524, 13)"
            ]
          },
          "metadata": {
            "tags": []
          },
          "execution_count": 3
        }
      ]
    },
    {
      "cell_type": "code",
      "metadata": {
        "id": "dcM7YaiCzPRd",
        "colab_type": "code",
        "colab": {
          "base_uri": "https://localhost:8080/",
          "height": 261
        },
        "outputId": "8b3f77c6-8786-461a-bb10-fd9b87a61574"
      },
      "source": [
        "#checking for data types\n",
        "financial.dtypes"
      ],
      "execution_count": 4,
      "outputs": [
        {
          "output_type": "execute_result",
          "data": {
            "text/plain": [
              "country                    object\n",
              "year                        int64\n",
              "uniqueid                   object\n",
              "Has a Bank account         object\n",
              "Type of Location           object\n",
              "Cell Phone Access          object\n",
              "household_size            float64\n",
              "Respondent Age            float64\n",
              "gender_of_respondent       object\n",
              "The relathip with head     object\n",
              "marital_status             object\n",
              "Level of Educuation        object\n",
              "Type of Job                object\n",
              "dtype: object"
            ]
          },
          "metadata": {
            "tags": []
          },
          "execution_count": 4
        }
      ]
    },
    {
      "cell_type": "markdown",
      "metadata": {
        "id": "I_cbqSm8STt9",
        "colab_type": "text"
      },
      "source": [
        "## **SECTION 3:**. Tidying the dataset"
      ]
    },
    {
      "cell_type": "code",
      "metadata": {
        "id": "gpsAIg_U0W_f",
        "colab_type": "code",
        "colab": {
          "base_uri": "https://localhost:8080/",
          "height": 326
        },
        "outputId": "00a06b9c-6786-4dec-bc86-f6eb76f7cc70"
      },
      "source": [
        "# Standardization - Fixing messy column names. \n",
        "# here we fix columns with uppercase, spaces, whitespaces, typos in columns\n",
        "\n",
        "financial.columns = financial.columns.str.strip().str.lower().str.replace(' ', '_').str.replace('(', '').str.replace(')', '').str.replace('the_relathip_with_head', 'relationship_with_head').str.replace('level_of_educuation', 'level_of_education')\n",
        "financial.head()\n"
      ],
      "execution_count": 5,
      "outputs": [
        {
          "output_type": "execute_result",
          "data": {
            "text/html": [
              "<div>\n",
              "<style scoped>\n",
              "    .dataframe tbody tr th:only-of-type {\n",
              "        vertical-align: middle;\n",
              "    }\n",
              "\n",
              "    .dataframe tbody tr th {\n",
              "        vertical-align: top;\n",
              "    }\n",
              "\n",
              "    .dataframe thead th {\n",
              "        text-align: right;\n",
              "    }\n",
              "</style>\n",
              "<table border=\"1\" class=\"dataframe\">\n",
              "  <thead>\n",
              "    <tr style=\"text-align: right;\">\n",
              "      <th></th>\n",
              "      <th>country</th>\n",
              "      <th>year</th>\n",
              "      <th>uniqueid</th>\n",
              "      <th>has_a_bank_account</th>\n",
              "      <th>type_of_location</th>\n",
              "      <th>cell_phone_access</th>\n",
              "      <th>household_size</th>\n",
              "      <th>respondent_age</th>\n",
              "      <th>gender_of_respondent</th>\n",
              "      <th>relationship_with_head</th>\n",
              "      <th>marital_status</th>\n",
              "      <th>level_of_education</th>\n",
              "      <th>type_of_job</th>\n",
              "    </tr>\n",
              "  </thead>\n",
              "  <tbody>\n",
              "    <tr>\n",
              "      <th>0</th>\n",
              "      <td>Kenya</td>\n",
              "      <td>2018</td>\n",
              "      <td>uniqueid_1</td>\n",
              "      <td>Yes</td>\n",
              "      <td>Rural</td>\n",
              "      <td>Yes</td>\n",
              "      <td>3.0</td>\n",
              "      <td>24.0</td>\n",
              "      <td>Female</td>\n",
              "      <td>Spouse</td>\n",
              "      <td>Married/Living together</td>\n",
              "      <td>Secondary education</td>\n",
              "      <td>Self employed</td>\n",
              "    </tr>\n",
              "    <tr>\n",
              "      <th>1</th>\n",
              "      <td>Kenya</td>\n",
              "      <td>2018</td>\n",
              "      <td>uniqueid_2</td>\n",
              "      <td>No</td>\n",
              "      <td>Rural</td>\n",
              "      <td>No</td>\n",
              "      <td>5.0</td>\n",
              "      <td>70.0</td>\n",
              "      <td>Female</td>\n",
              "      <td>Head of Household</td>\n",
              "      <td>Widowed</td>\n",
              "      <td>No formal education</td>\n",
              "      <td>Government Dependent</td>\n",
              "    </tr>\n",
              "    <tr>\n",
              "      <th>2</th>\n",
              "      <td>Kenya</td>\n",
              "      <td>2018</td>\n",
              "      <td>uniqueid_3</td>\n",
              "      <td>Yes</td>\n",
              "      <td>Urban</td>\n",
              "      <td>Yes</td>\n",
              "      <td>5.0</td>\n",
              "      <td>26.0</td>\n",
              "      <td>Male</td>\n",
              "      <td>Other relative</td>\n",
              "      <td>Single/Never Married</td>\n",
              "      <td>Vocational/Specialised training</td>\n",
              "      <td>Self employed</td>\n",
              "    </tr>\n",
              "    <tr>\n",
              "      <th>3</th>\n",
              "      <td>Kenya</td>\n",
              "      <td>2018</td>\n",
              "      <td>uniqueid_4</td>\n",
              "      <td>No</td>\n",
              "      <td>Rural</td>\n",
              "      <td>Yes</td>\n",
              "      <td>5.0</td>\n",
              "      <td>34.0</td>\n",
              "      <td>Female</td>\n",
              "      <td>Head of Household</td>\n",
              "      <td>Married/Living together</td>\n",
              "      <td>Primary education</td>\n",
              "      <td>Formally employed Private</td>\n",
              "    </tr>\n",
              "    <tr>\n",
              "      <th>4</th>\n",
              "      <td>Kenya</td>\n",
              "      <td>2018</td>\n",
              "      <td>uniqueid_5</td>\n",
              "      <td>No</td>\n",
              "      <td>Urban</td>\n",
              "      <td>No</td>\n",
              "      <td>8.0</td>\n",
              "      <td>26.0</td>\n",
              "      <td>Male</td>\n",
              "      <td>Child</td>\n",
              "      <td>Single/Never Married</td>\n",
              "      <td>Primary education</td>\n",
              "      <td>Informally employed</td>\n",
              "    </tr>\n",
              "  </tbody>\n",
              "</table>\n",
              "</div>"
            ],
            "text/plain": [
              "  country  year  ...               level_of_education                type_of_job\n",
              "0   Kenya  2018  ...              Secondary education              Self employed\n",
              "1   Kenya  2018  ...              No formal education       Government Dependent\n",
              "2   Kenya  2018  ...  Vocational/Specialised training              Self employed\n",
              "3   Kenya  2018  ...                Primary education  Formally employed Private\n",
              "4   Kenya  2018  ...                Primary education        Informally employed\n",
              "\n",
              "[5 rows x 13 columns]"
            ]
          },
          "metadata": {
            "tags": []
          },
          "execution_count": 5
        }
      ]
    },
    {
      "cell_type": "code",
      "metadata": {
        "id": "wpDc9ZnYZrkM",
        "colab_type": "code",
        "colab": {
          "base_uri": "https://localhost:8080/",
          "height": 506
        },
        "outputId": "5f933a6c-84e6-418c-b6da-4c1652f3a98d"
      },
      "source": [
        "# checking for missing values\n",
        "print(financial.isnull().any())\n",
        "print(financial.isnull().sum())"
      ],
      "execution_count": 6,
      "outputs": [
        {
          "output_type": "stream",
          "text": [
            "country                    True\n",
            "year                      False\n",
            "uniqueid                  False\n",
            "has_a_bank_account         True\n",
            "type_of_location           True\n",
            "cell_phone_access          True\n",
            "household_size             True\n",
            "respondent_age             True\n",
            "gender_of_respondent       True\n",
            "relationship_with_head     True\n",
            "marital_status             True\n",
            "level_of_education         True\n",
            "type_of_job                True\n",
            "dtype: bool\n",
            "country                   14\n",
            "year                       0\n",
            "uniqueid                   0\n",
            "has_a_bank_account        36\n",
            "type_of_location          15\n",
            "cell_phone_access         11\n",
            "household_size            28\n",
            "respondent_age            34\n",
            "gender_of_respondent      34\n",
            "relationship_with_head     4\n",
            "marital_status            32\n",
            "level_of_education        29\n",
            "type_of_job               30\n",
            "dtype: int64\n"
          ],
          "name": "stdout"
        }
      ]
    },
    {
      "cell_type": "code",
      "metadata": {
        "id": "TH4OpG2Qy5cJ",
        "colab_type": "code",
        "colab": {
          "base_uri": "https://localhost:8080/",
          "height": 279
        },
        "outputId": "5884f742-239c-4dd3-ae65-7e9cdb388eab"
      },
      "source": [
        "#dropping missing values, confirming that the null values have been dropped then returning the shape of our new dataset\n",
        "\n",
        "financial = financial.dropna()\n",
        "print(financial.isnull().sum())\n",
        "print(financial.shape)"
      ],
      "execution_count": 7,
      "outputs": [
        {
          "output_type": "stream",
          "text": [
            "country                   0\n",
            "year                      0\n",
            "uniqueid                  0\n",
            "has_a_bank_account        0\n",
            "type_of_location          0\n",
            "cell_phone_access         0\n",
            "household_size            0\n",
            "respondent_age            0\n",
            "gender_of_respondent      0\n",
            "relationship_with_head    0\n",
            "marital_status            0\n",
            "level_of_education        0\n",
            "type_of_job               0\n",
            "dtype: int64\n",
            "(23343, 13)\n"
          ],
          "name": "stdout"
        }
      ]
    },
    {
      "cell_type": "code",
      "metadata": {
        "id": "mBC__GcMCynQ",
        "colab_type": "code",
        "colab": {
          "base_uri": "https://localhost:8080/",
          "height": 296
        },
        "outputId": "619208c7-18fd-4e40-a451-3f71857e1d0c"
      },
      "source": [
        "# checking for statistical summary of our dataset\n",
        "financial.describe()"
      ],
      "execution_count": 8,
      "outputs": [
        {
          "output_type": "execute_result",
          "data": {
            "text/html": [
              "<div>\n",
              "<style scoped>\n",
              "    .dataframe tbody tr th:only-of-type {\n",
              "        vertical-align: middle;\n",
              "    }\n",
              "\n",
              "    .dataframe tbody tr th {\n",
              "        vertical-align: top;\n",
              "    }\n",
              "\n",
              "    .dataframe thead th {\n",
              "        text-align: right;\n",
              "    }\n",
              "</style>\n",
              "<table border=\"1\" class=\"dataframe\">\n",
              "  <thead>\n",
              "    <tr style=\"text-align: right;\">\n",
              "      <th></th>\n",
              "      <th>year</th>\n",
              "      <th>household_size</th>\n",
              "      <th>respondent_age</th>\n",
              "    </tr>\n",
              "  </thead>\n",
              "  <tbody>\n",
              "    <tr>\n",
              "      <th>count</th>\n",
              "      <td>23343.000000</td>\n",
              "      <td>23343.000000</td>\n",
              "      <td>23343.000000</td>\n",
              "    </tr>\n",
              "    <tr>\n",
              "      <th>mean</th>\n",
              "      <td>2016.980594</td>\n",
              "      <td>3.688643</td>\n",
              "      <td>38.805509</td>\n",
              "    </tr>\n",
              "    <tr>\n",
              "      <th>std</th>\n",
              "      <td>0.901740</td>\n",
              "      <td>2.281184</td>\n",
              "      <td>16.519803</td>\n",
              "    </tr>\n",
              "    <tr>\n",
              "      <th>min</th>\n",
              "      <td>2016.000000</td>\n",
              "      <td>0.000000</td>\n",
              "      <td>16.000000</td>\n",
              "    </tr>\n",
              "    <tr>\n",
              "      <th>25%</th>\n",
              "      <td>2016.000000</td>\n",
              "      <td>2.000000</td>\n",
              "      <td>26.000000</td>\n",
              "    </tr>\n",
              "    <tr>\n",
              "      <th>50%</th>\n",
              "      <td>2017.000000</td>\n",
              "      <td>3.000000</td>\n",
              "      <td>35.000000</td>\n",
              "    </tr>\n",
              "    <tr>\n",
              "      <th>75%</th>\n",
              "      <td>2018.000000</td>\n",
              "      <td>5.000000</td>\n",
              "      <td>49.000000</td>\n",
              "    </tr>\n",
              "    <tr>\n",
              "      <th>max</th>\n",
              "      <td>2056.000000</td>\n",
              "      <td>21.000000</td>\n",
              "      <td>100.000000</td>\n",
              "    </tr>\n",
              "  </tbody>\n",
              "</table>\n",
              "</div>"
            ],
            "text/plain": [
              "               year  household_size  respondent_age\n",
              "count  23343.000000    23343.000000    23343.000000\n",
              "mean    2016.980594        3.688643       38.805509\n",
              "std        0.901740        2.281184       16.519803\n",
              "min     2016.000000        0.000000       16.000000\n",
              "25%     2016.000000        2.000000       26.000000\n",
              "50%     2017.000000        3.000000       35.000000\n",
              "75%     2018.000000        5.000000       49.000000\n",
              "max     2056.000000       21.000000      100.000000"
            ]
          },
          "metadata": {
            "tags": []
          },
          "execution_count": 8
        }
      ]
    },
    {
      "cell_type": "code",
      "metadata": {
        "id": "qzv8bqky_jsg",
        "colab_type": "code",
        "colab": {
          "base_uri": "https://localhost:8080/",
          "height": 282
        },
        "outputId": "3267cbec-8765-44c8-c8cc-f4b1c7258ee9"
      },
      "source": [
        "# based on the statistical summaries we see some of the max values are too convoluted\n",
        "# for example, the max year being 2056 does not make sense. \n",
        "# Let us explore these columns further to check on their outliers\n",
        "\n",
        "# to check for outliers let us plot a boxplot for:\n",
        "# 1.) year column \n",
        "\n",
        "financial.boxplot(['year'])"
      ],
      "execution_count": 9,
      "outputs": [
        {
          "output_type": "execute_result",
          "data": {
            "text/plain": [
              "<matplotlib.axes._subplots.AxesSubplot at 0x7efe2623a400>"
            ]
          },
          "metadata": {
            "tags": []
          },
          "execution_count": 9
        },
        {
          "output_type": "display_data",
          "data": {
            "image/png": "[encoded data removed]",
            "text/plain": [
              "<Figure size 432x288 with 1 Axes>"
            ]
          },
          "metadata": {
            "tags": [],
            "needs_background": "light"
          }
        }
      ]
    },
    {
      "cell_type": "code",
      "metadata": {
        "id": "tOfzJsA8DSzt",
        "colab_type": "code",
        "colab": {
          "base_uri": "https://localhost:8080/",
          "height": 230
        },
        "outputId": "d2ed2de6-6cee-485c-f785-c6974197fd31"
      },
      "source": [
        "# from our boxplot above we can see that there are three outliers\n",
        "# let us pull the rows to see what they look like as shown below \n",
        "\n",
        "financial[financial['year'] > 2018]"
      ],
      "execution_count": 10,
      "outputs": [
        {
          "output_type": "execute_result",
          "data": {
            "text/html": [
              "<div>\n",
              "<style scoped>\n",
              "    .dataframe tbody tr th:only-of-type {\n",
              "        vertical-align: middle;\n",
              "    }\n",
              "\n",
              "    .dataframe tbody tr th {\n",
              "        vertical-align: top;\n",
              "    }\n",
              "\n",
              "    .dataframe thead th {\n",
              "        text-align: right;\n",
              "    }\n",
              "</style>\n",
              "<table border=\"1\" class=\"dataframe\">\n",
              "  <thead>\n",
              "    <tr style=\"text-align: right;\">\n",
              "      <th></th>\n",
              "      <th>country</th>\n",
              "      <th>year</th>\n",
              "      <th>uniqueid</th>\n",
              "      <th>has_a_bank_account</th>\n",
              "      <th>type_of_location</th>\n",
              "      <th>cell_phone_access</th>\n",
              "      <th>household_size</th>\n",
              "      <th>respondent_age</th>\n",
              "      <th>gender_of_respondent</th>\n",
              "      <th>relationship_with_head</th>\n",
              "      <th>marital_status</th>\n",
              "      <th>level_of_education</th>\n",
              "      <th>type_of_job</th>\n",
              "    </tr>\n",
              "  </thead>\n",
              "  <tbody>\n",
              "    <tr>\n",
              "      <th>213</th>\n",
              "      <td>Kenya</td>\n",
              "      <td>2029</td>\n",
              "      <td>uniqueid_214</td>\n",
              "      <td>No</td>\n",
              "      <td>Urban</td>\n",
              "      <td>Yes</td>\n",
              "      <td>6.0</td>\n",
              "      <td>16.0</td>\n",
              "      <td>Male</td>\n",
              "      <td>Other relative</td>\n",
              "      <td>Single/Never Married</td>\n",
              "      <td>Secondary education</td>\n",
              "      <td>Remittance Dependent</td>\n",
              "    </tr>\n",
              "    <tr>\n",
              "      <th>308</th>\n",
              "      <td>Kenya</td>\n",
              "      <td>2056</td>\n",
              "      <td>uniqueid_309</td>\n",
              "      <td>Yes</td>\n",
              "      <td>Urban</td>\n",
              "      <td>Yes</td>\n",
              "      <td>4.0</td>\n",
              "      <td>40.0</td>\n",
              "      <td>Male</td>\n",
              "      <td>Head of Household</td>\n",
              "      <td>Married/Living together</td>\n",
              "      <td>Tertiary education</td>\n",
              "      <td>Formally employed Private</td>\n",
              "    </tr>\n",
              "    <tr>\n",
              "      <th>7014</th>\n",
              "      <td>Rwanda</td>\n",
              "      <td>2039</td>\n",
              "      <td>uniqueid_947</td>\n",
              "      <td>No</td>\n",
              "      <td>Rural</td>\n",
              "      <td>Yes</td>\n",
              "      <td>3.0</td>\n",
              "      <td>24.0</td>\n",
              "      <td>Female</td>\n",
              "      <td>Spouse</td>\n",
              "      <td>Married/Living together</td>\n",
              "      <td>Primary education</td>\n",
              "      <td>Informally employed</td>\n",
              "    </tr>\n",
              "  </tbody>\n",
              "</table>\n",
              "</div>"
            ],
            "text/plain": [
              "     country  year  ...   level_of_education                type_of_job\n",
              "213    Kenya  2029  ...  Secondary education       Remittance Dependent\n",
              "308    Kenya  2056  ...   Tertiary education  Formally employed Private\n",
              "7014  Rwanda  2039  ...    Primary education        Informally employed\n",
              "\n",
              "[3 rows x 13 columns]"
            ]
          },
          "metadata": {
            "tags": []
          },
          "execution_count": 10
        }
      ]
    },
    {
      "cell_type": "code",
      "metadata": {
        "id": "5SzWzvisB5cg",
        "colab_type": "code",
        "colab": {
          "base_uri": "https://localhost:8080/",
          "height": 34
        },
        "outputId": "7990496a-8a33-4ca3-d7d0-cb0ef94c48cc"
      },
      "source": [
        "# we dont need these outliers rows from the year column, we shall drop them\n",
        "\n",
        "financial = financial.drop([213,308, 7014], axis='index')\n",
        "\n",
        "# To confirm the outliers in the year column have been dropped, let's check the shape of our new data set\n",
        "financial.shape"
      ],
      "execution_count": 11,
      "outputs": [
        {
          "output_type": "execute_result",
          "data": {
            "text/plain": [
              "(23340, 13)"
            ]
          },
          "metadata": {
            "tags": []
          },
          "execution_count": 11
        }
      ]
    },
    {
      "cell_type": "code",
      "metadata": {
        "id": "YVU0awIdEzla",
        "colab_type": "code",
        "colab": {
          "base_uri": "https://localhost:8080/",
          "height": 283
        },
        "outputId": "52799bd1-7817-4afd-b61c-554573aec8dd"
      },
      "source": [
        "# To check for outliers in household size column\n",
        "# let us plot a boxplot for:\n",
        "# 2.) household size column\n",
        "\n",
        "financial.boxplot(['household_size'])"
      ],
      "execution_count": 12,
      "outputs": [
        {
          "output_type": "execute_result",
          "data": {
            "text/plain": [
              "<matplotlib.axes._subplots.AxesSubplot at 0x7efe2618f710>"
            ]
          },
          "metadata": {
            "tags": []
          },
          "execution_count": 12
        },
        {
          "output_type": "display_data",
          "data": {
            "image/png": "[encoded data removed]",
            "text/plain": [
              "<Figure size 432x288 with 1 Axes>"
            ]
          },
          "metadata": {
            "tags": [],
            "needs_background": "light"
          }
        }
      ]
    },
    {
      "cell_type": "code",
      "metadata": {
        "id": "FDr96srzD-Xs",
        "colab_type": "code",
        "colab": {
          "base_uri": "https://localhost:8080/",
          "height": 643
        },
        "outputId": "ae877f8c-442d-4755-9265-c0532d63e14c"
      },
      "source": [
        "# pulling the rows from household size column to see how the 'outliers' look like\n",
        "# out of our total dataset of about 23500 rows, the household size has 376 outliers as shown below\n",
        "# we will drop these rows to prevent them from skewing our data\n",
        "\n",
        "financial[financial['household_size'] > 9.0 ]"
      ],
      "execution_count": 13,
      "outputs": [
        {
          "output_type": "execute_result",
          "data": {
            "text/html": [
              "<div>\n",
              "<style scoped>\n",
              "    .dataframe tbody tr th:only-of-type {\n",
              "        vertical-align: middle;\n",
              "    }\n",
              "\n",
              "    .dataframe tbody tr th {\n",
              "        vertical-align: top;\n",
              "    }\n",
              "\n",
              "    .dataframe thead th {\n",
              "        text-align: right;\n",
              "    }\n",
              "</style>\n",
              "<table border=\"1\" class=\"dataframe\">\n",
              "  <thead>\n",
              "    <tr style=\"text-align: right;\">\n",
              "      <th></th>\n",
              "      <th>country</th>\n",
              "      <th>year</th>\n",
              "      <th>uniqueid</th>\n",
              "      <th>has_a_bank_account</th>\n",
              "      <th>type_of_location</th>\n",
              "      <th>cell_phone_access</th>\n",
              "      <th>household_size</th>\n",
              "      <th>respondent_age</th>\n",
              "      <th>gender_of_respondent</th>\n",
              "      <th>relationship_with_head</th>\n",
              "      <th>marital_status</th>\n",
              "      <th>level_of_education</th>\n",
              "      <th>type_of_job</th>\n",
              "    </tr>\n",
              "  </thead>\n",
              "  <tbody>\n",
              "    <tr>\n",
              "      <th>34</th>\n",
              "      <td>Kenya</td>\n",
              "      <td>2018</td>\n",
              "      <td>uniqueid_35</td>\n",
              "      <td>No</td>\n",
              "      <td>Rural</td>\n",
              "      <td>Yes</td>\n",
              "      <td>10.0</td>\n",
              "      <td>42.0</td>\n",
              "      <td>Female</td>\n",
              "      <td>Spouse</td>\n",
              "      <td>Married/Living together</td>\n",
              "      <td>Primary education</td>\n",
              "      <td>Farming and Fishing</td>\n",
              "    </tr>\n",
              "    <tr>\n",
              "      <th>58</th>\n",
              "      <td>Kenya</td>\n",
              "      <td>2018</td>\n",
              "      <td>uniqueid_59</td>\n",
              "      <td>No</td>\n",
              "      <td>Rural</td>\n",
              "      <td>Yes</td>\n",
              "      <td>11.0</td>\n",
              "      <td>21.0</td>\n",
              "      <td>Male</td>\n",
              "      <td>Child</td>\n",
              "      <td>Single/Never Married</td>\n",
              "      <td>Other/Dont know/RTA</td>\n",
              "      <td>Informally employed</td>\n",
              "    </tr>\n",
              "    <tr>\n",
              "      <th>92</th>\n",
              "      <td>Kenya</td>\n",
              "      <td>2018</td>\n",
              "      <td>uniqueid_93</td>\n",
              "      <td>Yes</td>\n",
              "      <td>Urban</td>\n",
              "      <td>Yes</td>\n",
              "      <td>10.0</td>\n",
              "      <td>21.0</td>\n",
              "      <td>Female</td>\n",
              "      <td>Parent</td>\n",
              "      <td>Single/Never Married</td>\n",
              "      <td>Tertiary education</td>\n",
              "      <td>Remittance Dependent</td>\n",
              "    </tr>\n",
              "    <tr>\n",
              "      <th>100</th>\n",
              "      <td>Kenya</td>\n",
              "      <td>2018</td>\n",
              "      <td>uniqueid_101</td>\n",
              "      <td>No</td>\n",
              "      <td>Urban</td>\n",
              "      <td>Yes</td>\n",
              "      <td>10.0</td>\n",
              "      <td>23.0</td>\n",
              "      <td>Female</td>\n",
              "      <td>Other relative</td>\n",
              "      <td>Divorced/Seperated</td>\n",
              "      <td>Primary education</td>\n",
              "      <td>Formally employed Private</td>\n",
              "    </tr>\n",
              "    <tr>\n",
              "      <th>348</th>\n",
              "      <td>Kenya</td>\n",
              "      <td>2018</td>\n",
              "      <td>uniqueid_349</td>\n",
              "      <td>No</td>\n",
              "      <td>Urban</td>\n",
              "      <td>Yes</td>\n",
              "      <td>12.0</td>\n",
              "      <td>23.0</td>\n",
              "      <td>Female</td>\n",
              "      <td>Child</td>\n",
              "      <td>Single/Never Married</td>\n",
              "      <td>Secondary education</td>\n",
              "      <td>Self employed</td>\n",
              "    </tr>\n",
              "    <tr>\n",
              "      <th>...</th>\n",
              "      <td>...</td>\n",
              "      <td>...</td>\n",
              "      <td>...</td>\n",
              "      <td>...</td>\n",
              "      <td>...</td>\n",
              "      <td>...</td>\n",
              "      <td>...</td>\n",
              "      <td>...</td>\n",
              "      <td>...</td>\n",
              "      <td>...</td>\n",
              "      <td>...</td>\n",
              "      <td>...</td>\n",
              "      <td>...</td>\n",
              "    </tr>\n",
              "    <tr>\n",
              "      <th>23461</th>\n",
              "      <td>Uganda</td>\n",
              "      <td>2018</td>\n",
              "      <td>uniqueid_2046</td>\n",
              "      <td>No</td>\n",
              "      <td>Urban</td>\n",
              "      <td>Yes</td>\n",
              "      <td>13.0</td>\n",
              "      <td>25.0</td>\n",
              "      <td>Female</td>\n",
              "      <td>Spouse</td>\n",
              "      <td>Married/Living together</td>\n",
              "      <td>Primary education</td>\n",
              "      <td>Dont Know/Refuse to answer</td>\n",
              "    </tr>\n",
              "    <tr>\n",
              "      <th>23468</th>\n",
              "      <td>Uganda</td>\n",
              "      <td>2018</td>\n",
              "      <td>uniqueid_2053</td>\n",
              "      <td>No</td>\n",
              "      <td>Urban</td>\n",
              "      <td>Yes</td>\n",
              "      <td>12.0</td>\n",
              "      <td>42.0</td>\n",
              "      <td>Male</td>\n",
              "      <td>Head of Household</td>\n",
              "      <td>Married/Living together</td>\n",
              "      <td>Primary education</td>\n",
              "      <td>Self employed</td>\n",
              "    </tr>\n",
              "    <tr>\n",
              "      <th>23471</th>\n",
              "      <td>Uganda</td>\n",
              "      <td>2018</td>\n",
              "      <td>uniqueid_2056</td>\n",
              "      <td>No</td>\n",
              "      <td>Rural</td>\n",
              "      <td>Yes</td>\n",
              "      <td>15.0</td>\n",
              "      <td>17.0</td>\n",
              "      <td>Female</td>\n",
              "      <td>Other relative</td>\n",
              "      <td>Married/Living together</td>\n",
              "      <td>Secondary education</td>\n",
              "      <td>Self employed</td>\n",
              "    </tr>\n",
              "    <tr>\n",
              "      <th>23482</th>\n",
              "      <td>Uganda</td>\n",
              "      <td>2018</td>\n",
              "      <td>uniqueid_2070</td>\n",
              "      <td>No</td>\n",
              "      <td>Rural</td>\n",
              "      <td>No</td>\n",
              "      <td>10.0</td>\n",
              "      <td>18.0</td>\n",
              "      <td>Female</td>\n",
              "      <td>Parent</td>\n",
              "      <td>Married/Living together</td>\n",
              "      <td>Secondary education</td>\n",
              "      <td>Self employed</td>\n",
              "    </tr>\n",
              "    <tr>\n",
              "      <th>23523</th>\n",
              "      <td>Uganda</td>\n",
              "      <td>2018</td>\n",
              "      <td>uniqueid_2117</td>\n",
              "      <td>No</td>\n",
              "      <td>Rural</td>\n",
              "      <td>Yes</td>\n",
              "      <td>10.0</td>\n",
              "      <td>20.0</td>\n",
              "      <td>Male</td>\n",
              "      <td>Child</td>\n",
              "      <td>Single/Never Married</td>\n",
              "      <td>Secondary education</td>\n",
              "      <td>No Income</td>\n",
              "    </tr>\n",
              "  </tbody>\n",
              "</table>\n",
              "<p>376 rows × 13 columns</p>\n",
              "</div>"
            ],
            "text/plain": [
              "      country  year  ...   level_of_education                 type_of_job\n",
              "34      Kenya  2018  ...    Primary education         Farming and Fishing\n",
              "58      Kenya  2018  ...  Other/Dont know/RTA         Informally employed\n",
              "92      Kenya  2018  ...   Tertiary education        Remittance Dependent\n",
              "100     Kenya  2018  ...    Primary education   Formally employed Private\n",
              "348     Kenya  2018  ...  Secondary education               Self employed\n",
              "...       ...   ...  ...                  ...                         ...\n",
              "23461  Uganda  2018  ...    Primary education  Dont Know/Refuse to answer\n",
              "23468  Uganda  2018  ...    Primary education               Self employed\n",
              "23471  Uganda  2018  ...  Secondary education               Self employed\n",
              "23482  Uganda  2018  ...  Secondary education               Self employed\n",
              "23523  Uganda  2018  ...  Secondary education                   No Income\n",
              "\n",
              "[376 rows x 13 columns]"
            ]
          },
          "metadata": {
            "tags": []
          },
          "execution_count": 13
        }
      ]
    },
    {
      "cell_type": "code",
      "metadata": {
        "id": "jjDKcSpzaGu2",
        "colab_type": "code",
        "colab": {}
      },
      "source": [
        "# dropping the household outliers\n",
        "\n",
        "financial.drop(financial[financial['household_size'] > 9.0].index, inplace = True)"
      ],
      "execution_count": 14,
      "outputs": []
    },
    {
      "cell_type": "code",
      "metadata": {
        "id": "hd3KcZxfbbMk",
        "colab_type": "code",
        "colab": {
          "base_uri": "https://localhost:8080/",
          "height": 34
        },
        "outputId": "bfcc0125-781f-494a-9f4e-2beb1f62526b"
      },
      "source": [
        "# checking the new dataset\n",
        "print(financial.shape)"
      ],
      "execution_count": 15,
      "outputs": [
        {
          "output_type": "stream",
          "text": [
            "(22964, 13)\n"
          ],
          "name": "stdout"
        }
      ]
    },
    {
      "cell_type": "code",
      "metadata": {
        "id": "xemnJgSgE8ni",
        "colab_type": "code",
        "colab": {
          "base_uri": "https://localhost:8080/",
          "height": 283
        },
        "outputId": "f42786f4-e0a8-48a4-dee8-be546dd6dcec"
      },
      "source": [
        "# To check for outliers in respondent age column\n",
        "# let us plot a boxplot for:\n",
        "# 3.) respondent age column\n",
        "\n",
        "financial.boxplot(['respondent_age'])"
      ],
      "execution_count": 16,
      "outputs": [
        {
          "output_type": "execute_result",
          "data": {
            "text/plain": [
              "<matplotlib.axes._subplots.AxesSubplot at 0x7efe25caf7f0>"
            ]
          },
          "metadata": {
            "tags": []
          },
          "execution_count": 16
        },
        {
          "output_type": "display_data",
          "data": {
            "image/png": "[encoded data removed]",
            "text/plain": [
              "<Figure size 432x288 with 1 Axes>"
            ]
          },
          "metadata": {
            "tags": [],
            "needs_background": "light"
          }
        }
      ]
    },
    {
      "cell_type": "code",
      "metadata": {
        "id": "I6GRvZwOGmhy",
        "colab_type": "code",
        "colab": {
          "base_uri": "https://localhost:8080/",
          "height": 557
        },
        "outputId": "23443f28-ae59-4486-fcad-06823447bea5"
      },
      "source": [
        "# pulling the rows from respondent_age column to see how they look like:\n",
        "\n",
        "financial[financial['respondent_age'] > 82.0 ]"
      ],
      "execution_count": 17,
      "outputs": [
        {
          "output_type": "execute_result",
          "data": {
            "text/html": [
              "<div>\n",
              "<style scoped>\n",
              "    .dataframe tbody tr th:only-of-type {\n",
              "        vertical-align: middle;\n",
              "    }\n",
              "\n",
              "    .dataframe tbody tr th {\n",
              "        vertical-align: top;\n",
              "    }\n",
              "\n",
              "    .dataframe thead th {\n",
              "        text-align: right;\n",
              "    }\n",
              "</style>\n",
              "<table border=\"1\" class=\"dataframe\">\n",
              "  <thead>\n",
              "    <tr style=\"text-align: right;\">\n",
              "      <th></th>\n",
              "      <th>country</th>\n",
              "      <th>year</th>\n",
              "      <th>uniqueid</th>\n",
              "      <th>has_a_bank_account</th>\n",
              "      <th>type_of_location</th>\n",
              "      <th>cell_phone_access</th>\n",
              "      <th>household_size</th>\n",
              "      <th>respondent_age</th>\n",
              "      <th>gender_of_respondent</th>\n",
              "      <th>relationship_with_head</th>\n",
              "      <th>marital_status</th>\n",
              "      <th>level_of_education</th>\n",
              "      <th>type_of_job</th>\n",
              "    </tr>\n",
              "  </thead>\n",
              "  <tbody>\n",
              "    <tr>\n",
              "      <th>209</th>\n",
              "      <td>Kenya</td>\n",
              "      <td>2018</td>\n",
              "      <td>uniqueid_210</td>\n",
              "      <td>No</td>\n",
              "      <td>Rural</td>\n",
              "      <td>No</td>\n",
              "      <td>3.0</td>\n",
              "      <td>95.0</td>\n",
              "      <td>Female</td>\n",
              "      <td>Parent</td>\n",
              "      <td>Widowed</td>\n",
              "      <td>No formal education</td>\n",
              "      <td>Informally employed</td>\n",
              "    </tr>\n",
              "    <tr>\n",
              "      <th>268</th>\n",
              "      <td>Kenya</td>\n",
              "      <td>2018</td>\n",
              "      <td>uniqueid_269</td>\n",
              "      <td>No</td>\n",
              "      <td>Urban</td>\n",
              "      <td>Yes</td>\n",
              "      <td>1.0</td>\n",
              "      <td>85.0</td>\n",
              "      <td>Female</td>\n",
              "      <td>Head of Household</td>\n",
              "      <td>Widowed</td>\n",
              "      <td>Primary education</td>\n",
              "      <td>Remittance Dependent</td>\n",
              "    </tr>\n",
              "    <tr>\n",
              "      <th>340</th>\n",
              "      <td>Kenya</td>\n",
              "      <td>2018</td>\n",
              "      <td>uniqueid_341</td>\n",
              "      <td>No</td>\n",
              "      <td>Rural</td>\n",
              "      <td>No</td>\n",
              "      <td>2.0</td>\n",
              "      <td>95.0</td>\n",
              "      <td>Male</td>\n",
              "      <td>Head of Household</td>\n",
              "      <td>Married/Living together</td>\n",
              "      <td>Primary education</td>\n",
              "      <td>Farming and Fishing</td>\n",
              "    </tr>\n",
              "    <tr>\n",
              "      <th>366</th>\n",
              "      <td>Kenya</td>\n",
              "      <td>2018</td>\n",
              "      <td>uniqueid_367</td>\n",
              "      <td>No</td>\n",
              "      <td>Rural</td>\n",
              "      <td>No</td>\n",
              "      <td>1.0</td>\n",
              "      <td>86.0</td>\n",
              "      <td>Female</td>\n",
              "      <td>Head of Household</td>\n",
              "      <td>Widowed</td>\n",
              "      <td>Primary education</td>\n",
              "      <td>Remittance Dependent</td>\n",
              "    </tr>\n",
              "    <tr>\n",
              "      <th>370</th>\n",
              "      <td>Kenya</td>\n",
              "      <td>2018</td>\n",
              "      <td>uniqueid_371</td>\n",
              "      <td>No</td>\n",
              "      <td>Rural</td>\n",
              "      <td>Yes</td>\n",
              "      <td>3.0</td>\n",
              "      <td>95.0</td>\n",
              "      <td>Male</td>\n",
              "      <td>Head of Household</td>\n",
              "      <td>Married/Living together</td>\n",
              "      <td>Primary education</td>\n",
              "      <td>Other Income</td>\n",
              "    </tr>\n",
              "    <tr>\n",
              "      <th>...</th>\n",
              "      <td>...</td>\n",
              "      <td>...</td>\n",
              "      <td>...</td>\n",
              "      <td>...</td>\n",
              "      <td>...</td>\n",
              "      <td>...</td>\n",
              "      <td>...</td>\n",
              "      <td>...</td>\n",
              "      <td>...</td>\n",
              "      <td>...</td>\n",
              "      <td>...</td>\n",
              "      <td>...</td>\n",
              "      <td>...</td>\n",
              "    </tr>\n",
              "    <tr>\n",
              "      <th>22995</th>\n",
              "      <td>Uganda</td>\n",
              "      <td>2018</td>\n",
              "      <td>uniqueid_1573</td>\n",
              "      <td>No</td>\n",
              "      <td>Rural</td>\n",
              "      <td>No</td>\n",
              "      <td>4.0</td>\n",
              "      <td>95.0</td>\n",
              "      <td>Female</td>\n",
              "      <td>Spouse</td>\n",
              "      <td>Married/Living together</td>\n",
              "      <td>Primary education</td>\n",
              "      <td>No Income</td>\n",
              "    </tr>\n",
              "    <tr>\n",
              "      <th>23053</th>\n",
              "      <td>Uganda</td>\n",
              "      <td>2018</td>\n",
              "      <td>uniqueid_1631</td>\n",
              "      <td>No</td>\n",
              "      <td>Urban</td>\n",
              "      <td>No</td>\n",
              "      <td>2.0</td>\n",
              "      <td>98.0</td>\n",
              "      <td>Female</td>\n",
              "      <td>Head of Household</td>\n",
              "      <td>Widowed</td>\n",
              "      <td>No formal education</td>\n",
              "      <td>No Income</td>\n",
              "    </tr>\n",
              "    <tr>\n",
              "      <th>23352</th>\n",
              "      <td>Uganda</td>\n",
              "      <td>2018</td>\n",
              "      <td>uniqueid_1930</td>\n",
              "      <td>No</td>\n",
              "      <td>Rural</td>\n",
              "      <td>Yes</td>\n",
              "      <td>3.0</td>\n",
              "      <td>86.0</td>\n",
              "      <td>Male</td>\n",
              "      <td>Head of Household</td>\n",
              "      <td>Divorced/Seperated</td>\n",
              "      <td>No formal education</td>\n",
              "      <td>No Income</td>\n",
              "    </tr>\n",
              "    <tr>\n",
              "      <th>23395</th>\n",
              "      <td>Uganda</td>\n",
              "      <td>2018</td>\n",
              "      <td>uniqueid_1976</td>\n",
              "      <td>No</td>\n",
              "      <td>Rural</td>\n",
              "      <td>No</td>\n",
              "      <td>2.0</td>\n",
              "      <td>85.0</td>\n",
              "      <td>Female</td>\n",
              "      <td>Head of Household</td>\n",
              "      <td>Divorced/Seperated</td>\n",
              "      <td>No formal education</td>\n",
              "      <td>Other Income</td>\n",
              "    </tr>\n",
              "    <tr>\n",
              "      <th>23413</th>\n",
              "      <td>Uganda</td>\n",
              "      <td>2018</td>\n",
              "      <td>uniqueid_1994</td>\n",
              "      <td>No</td>\n",
              "      <td>Rural</td>\n",
              "      <td>No</td>\n",
              "      <td>5.0</td>\n",
              "      <td>90.0</td>\n",
              "      <td>Male</td>\n",
              "      <td>Head of Household</td>\n",
              "      <td>Married/Living together</td>\n",
              "      <td>No formal education</td>\n",
              "      <td>Self employed</td>\n",
              "    </tr>\n",
              "  </tbody>\n",
              "</table>\n",
              "<p>272 rows × 13 columns</p>\n",
              "</div>"
            ],
            "text/plain": [
              "      country  year  ...   level_of_education           type_of_job\n",
              "209     Kenya  2018  ...  No formal education   Informally employed\n",
              "268     Kenya  2018  ...    Primary education  Remittance Dependent\n",
              "340     Kenya  2018  ...    Primary education   Farming and Fishing\n",
              "366     Kenya  2018  ...    Primary education  Remittance Dependent\n",
              "370     Kenya  2018  ...    Primary education          Other Income\n",
              "...       ...   ...  ...                  ...                   ...\n",
              "22995  Uganda  2018  ...    Primary education             No Income\n",
              "23053  Uganda  2018  ...  No formal education             No Income\n",
              "23352  Uganda  2018  ...  No formal education             No Income\n",
              "23395  Uganda  2018  ...  No formal education          Other Income\n",
              "23413  Uganda  2018  ...  No formal education         Self employed\n",
              "\n",
              "[272 rows x 13 columns]"
            ]
          },
          "metadata": {
            "tags": []
          },
          "execution_count": 17
        }
      ]
    },
    {
      "cell_type": "code",
      "metadata": {
        "id": "MKBXpuofiHbE",
        "colab_type": "code",
        "colab": {}
      },
      "source": [
        "# we will also drop the respondent age outliers as shown below\n",
        "\n",
        "financial.drop(financial[financial['respondent_age'] > 82.0].index, inplace = True)"
      ],
      "execution_count": 18,
      "outputs": []
    },
    {
      "cell_type": "code",
      "metadata": {
        "id": "9Yhjc5gqia0W",
        "colab_type": "code",
        "colab": {
          "base_uri": "https://localhost:8080/",
          "height": 34
        },
        "outputId": "85400e87-1492-4379-8772-c24aa111c763"
      },
      "source": [
        "# checking the new dataset\n",
        "print(financial.shape)\n"
      ],
      "execution_count": 19,
      "outputs": [
        {
          "output_type": "stream",
          "text": [
            "(22692, 13)\n"
          ],
          "name": "stdout"
        }
      ]
    },
    {
      "cell_type": "code",
      "metadata": {
        "id": "9xZTKnL2nnjB",
        "colab_type": "code",
        "colab": {
          "base_uri": "https://localhost:8080/",
          "height": 34
        },
        "outputId": "fbe4c50e-fb49-4b05-fd5b-e44426e2a3e1"
      },
      "source": [
        "# renaming our cleaned data:\n",
        "\n",
        "financial_cleaned = financial\n",
        "print(financial_cleaned.shape)"
      ],
      "execution_count": 20,
      "outputs": [
        {
          "output_type": "stream",
          "text": [
            "(22692, 13)\n"
          ],
          "name": "stdout"
        }
      ]
    },
    {
      "cell_type": "markdown",
      "metadata": {
        "id": "gCY8uscbwXdj",
        "colab_type": "text"
      },
      "source": [
        "## **SECTION 4:** Univariate Analysis"
      ]
    },
    {
      "cell_type": "code",
      "metadata": {
        "id": "lV9usvxYv02t",
        "colab_type": "code",
        "colab": {
          "base_uri": "https://localhost:8080/",
          "height": 296
        },
        "outputId": "9cf38dee-6e08-41dc-953a-2a6bef445673"
      },
      "source": [
        "# checking for statistical summaries of our cleaned data:\n",
        "\n",
        "financial_cleaned.describe()"
      ],
      "execution_count": 21,
      "outputs": [
        {
          "output_type": "execute_result",
          "data": {
            "text/html": [
              "<div>\n",
              "<style scoped>\n",
              "    .dataframe tbody tr th:only-of-type {\n",
              "        vertical-align: middle;\n",
              "    }\n",
              "\n",
              "    .dataframe tbody tr th {\n",
              "        vertical-align: top;\n",
              "    }\n",
              "\n",
              "    .dataframe thead th {\n",
              "        text-align: right;\n",
              "    }\n",
              "</style>\n",
              "<table border=\"1\" class=\"dataframe\">\n",
              "  <thead>\n",
              "    <tr style=\"text-align: right;\">\n",
              "      <th></th>\n",
              "      <th>year</th>\n",
              "      <th>household_size</th>\n",
              "      <th>respondent_age</th>\n",
              "    </tr>\n",
              "  </thead>\n",
              "  <tbody>\n",
              "    <tr>\n",
              "      <th>count</th>\n",
              "      <td>22692.000000</td>\n",
              "      <td>22692.000000</td>\n",
              "      <td>22692.000000</td>\n",
              "    </tr>\n",
              "    <tr>\n",
              "      <th>mean</th>\n",
              "      <td>2016.968403</td>\n",
              "      <td>3.581659</td>\n",
              "      <td>38.283051</td>\n",
              "    </tr>\n",
              "    <tr>\n",
              "      <th>std</th>\n",
              "      <td>0.846313</td>\n",
              "      <td>2.080544</td>\n",
              "      <td>15.725571</td>\n",
              "    </tr>\n",
              "    <tr>\n",
              "      <th>min</th>\n",
              "      <td>2016.000000</td>\n",
              "      <td>0.000000</td>\n",
              "      <td>16.000000</td>\n",
              "    </tr>\n",
              "    <tr>\n",
              "      <th>25%</th>\n",
              "      <td>2016.000000</td>\n",
              "      <td>2.000000</td>\n",
              "      <td>26.000000</td>\n",
              "    </tr>\n",
              "    <tr>\n",
              "      <th>50%</th>\n",
              "      <td>2017.000000</td>\n",
              "      <td>3.000000</td>\n",
              "      <td>35.000000</td>\n",
              "    </tr>\n",
              "    <tr>\n",
              "      <th>75%</th>\n",
              "      <td>2018.000000</td>\n",
              "      <td>5.000000</td>\n",
              "      <td>48.000000</td>\n",
              "    </tr>\n",
              "    <tr>\n",
              "      <th>max</th>\n",
              "      <td>2018.000000</td>\n",
              "      <td>9.000000</td>\n",
              "      <td>82.000000</td>\n",
              "    </tr>\n",
              "  </tbody>\n",
              "</table>\n",
              "</div>"
            ],
            "text/plain": [
              "               year  household_size  respondent_age\n",
              "count  22692.000000    22692.000000    22692.000000\n",
              "mean    2016.968403        3.581659       38.283051\n",
              "std        0.846313        2.080544       15.725571\n",
              "min     2016.000000        0.000000       16.000000\n",
              "25%     2016.000000        2.000000       26.000000\n",
              "50%     2017.000000        3.000000       35.000000\n",
              "75%     2018.000000        5.000000       48.000000\n",
              "max     2018.000000        9.000000       82.000000"
            ]
          },
          "metadata": {
            "tags": []
          },
          "execution_count": 21
        }
      ]
    },
    {
      "cell_type": "code",
      "metadata": {
        "id": "rlHfKmDQypYO",
        "colab_type": "code",
        "colab": {
          "base_uri": "https://localhost:8080/",
          "height": 52
        },
        "outputId": "4bc178db-67d0-42ea-9b9a-510fed8368b5"
      },
      "source": [
        "# checking for skewness and kurtosis in respondent_age\n",
        "print(financial_cleaned['respondent_age'].skew())\n",
        "print(financial_cleaned['respondent_age'].kurt())\n"
      ],
      "execution_count": 22,
      "outputs": [
        {
          "output_type": "stream",
          "text": [
            "0.7318351518247519\n",
            "-0.2589064137567383\n"
          ],
          "name": "stdout"
        }
      ]
    },
    {
      "cell_type": "code",
      "metadata": {
        "id": "1uJxim-iwPxx",
        "colab_type": "code",
        "colab": {
          "base_uri": "https://localhost:8080/",
          "height": 52
        },
        "outputId": "8fdcdb36-ec54-4eac-83f0-596b32d9d781"
      },
      "source": [
        "# checking for skewness and kurtosis for household_size\n",
        "print(financial_cleaned['household_size'].skew())\n",
        "print(financial_cleaned['household_size'].kurt())"
      ],
      "execution_count": 23,
      "outputs": [
        {
          "output_type": "stream",
          "text": [
            "0.604233257288344\n",
            "-0.5075944826433418\n"
          ],
          "name": "stdout"
        }
      ]
    },
    {
      "cell_type": "code",
      "metadata": {
        "id": "6ZFaQU9yKif1",
        "colab_type": "code",
        "colab": {
          "base_uri": "https://localhost:8080/",
          "height": 368
        },
        "outputId": "6a7d027c-a8ce-4e59-a8b8-83dd59fce2ed"
      },
      "source": [
        "# Plotting the univariate summaries for numerical data types and recording our observations\n",
        "financial_cleaned.hist()"
      ],
      "execution_count": 24,
      "outputs": [
        {
          "output_type": "execute_result",
          "data": {
            "text/plain": [
              "array([[<matplotlib.axes._subplots.AxesSubplot object at 0x7efe25c1fbe0>,\n",
              "        <matplotlib.axes._subplots.AxesSubplot object at 0x7efe25bd44a8>],\n",
              "       [<matplotlib.axes._subplots.AxesSubplot object at 0x7efe25c08710>,\n",
              "        <matplotlib.axes._subplots.AxesSubplot object at 0x7efe25bbb978>]],\n",
              "      dtype=object)"
            ]
          },
          "metadata": {
            "tags": []
          },
          "execution_count": 24
        },
        {
          "output_type": "display_data",
          "data": {
            "image/png": "[encoded data removed]",
            "text/plain": [
              "<Figure size 432x288 with 4 Axes>"
            ]
          },
          "metadata": {
            "tags": [],
            "needs_background": "light"
          }
        }
      ]
    },
    {
      "cell_type": "code",
      "metadata": {
        "id": "bWuKUm0005j6",
        "colab_type": "code",
        "colab": {
          "base_uri": "https://localhost:8080/",
          "height": 295
        },
        "outputId": "4626e7d1-d468-4014-a42e-c2b59409f940"
      },
      "source": [
        "# We shall then explore categorical variables and the two numerical variables (respondent age and household size) using bar charts. \n",
        "# Doing this process is useful in understanding our dataset from a broader perspective\n",
        "\n",
        "# 1. Let's start with country column:\n",
        "\n",
        "country = financial_cleaned['country']\n",
        "\n",
        "plt.hist(country, histtype='bar', rwidth=1)\n",
        "plt.xlabel('country')\n",
        "plt.ylabel('Total number of people')\n",
        "plt.title('Barchart of Total number of people surveyed per country')\n",
        "plt.show()"
      ],
      "execution_count": 25,
      "outputs": [
        {
          "output_type": "display_data",
          "data": {
            "image/png": "[encoded data removed]",
            "text/plain": [
              "<Figure size 432x288 with 1 Axes>"
            ]
          },
          "metadata": {
            "tags": [],
            "needs_background": "light"
          }
        }
      ]
    },
    {
      "cell_type": "code",
      "metadata": {
        "id": "uuGp1BN_DWaj",
        "colab_type": "code",
        "colab": {
          "base_uri": "https://localhost:8080/",
          "height": 296
        },
        "outputId": "8a83b5c4-7add-4cbe-ff84-f08ca81a5c3b"
      },
      "source": [
        "# 2. bar chart of have a bank account column:\n",
        "\n",
        "has_a_bank_account = financial_cleaned['has_a_bank_account']\n",
        "\n",
        "plt.hist(has_a_bank_account, histtype='bar', rwidth=0.9)\n",
        "plt.xlabel('has_a_bank_account')\n",
        "plt.ylabel('Total number of people')\n",
        "plt.title('Barchart of people with or without a bank_account')\n",
        "plt.show()"
      ],
      "execution_count": 26,
      "outputs": [
        {
          "output_type": "display_data",
          "data": {
            "image/png": "[encoded data removed]",
            "text/plain": [
              "<Figure size 432x288 with 1 Axes>"
            ]
          },
          "metadata": {
            "tags": [],
            "needs_background": "light"
          }
        }
      ]
    },
    {
      "cell_type": "code",
      "metadata": {
        "id": "XUuTCVnq4yw6",
        "colab_type": "code",
        "colab": {
          "base_uri": "https://localhost:8080/",
          "height": 295
        },
        "outputId": "c87ac903-f191-4226-d1b7-bada684dbe95"
      },
      "source": [
        "# 3. bar chart of type of location\n",
        "\n",
        "type_of_location = financial_cleaned['type_of_location']\n",
        "\n",
        "plt.hist(type_of_location, histtype='bar', rwidth=1)\n",
        "plt.xlabel('type of location')\n",
        "plt.ylabel('Total number of people')\n",
        "plt.title('Barchart of type of location')\n",
        "plt.show()"
      ],
      "execution_count": 27,
      "outputs": [
        {
          "output_type": "display_data",
          "data": {
            "image/png": "[encoded data removed]",
            "text/plain": [
              "<Figure size 432x288 with 1 Axes>"
            ]
          },
          "metadata": {
            "tags": [],
            "needs_background": "light"
          }
        }
      ]
    },
    {
      "cell_type": "code",
      "metadata": {
        "id": "pKlk-UJR6grv",
        "colab_type": "code",
        "colab": {
          "base_uri": "https://localhost:8080/",
          "height": 295
        },
        "outputId": "832dec92-57fc-4973-9a47-13b42b7978e0"
      },
      "source": [
        "# 4. bar chart of people with cell phone access\n",
        "\n",
        "cell_phone_access = financial_cleaned['cell_phone_access']\n",
        "\n",
        "plt.hist(cell_phone_access, histtype='bar', rwidth=0.9)\n",
        "plt.xlabel('cell phone access')\n",
        "plt.ylabel('Total number of people')\n",
        "plt.title('Barchart of cell phone access')\n",
        "plt.show()"
      ],
      "execution_count": 28,
      "outputs": [
        {
          "output_type": "display_data",
          "data": {
            "image/png": "[encoded data removed]",
            "text/plain": [
              "<Figure size 432x288 with 1 Axes>"
            ]
          },
          "metadata": {
            "tags": [],
            "needs_background": "light"
          }
        }
      ]
    },
    {
      "cell_type": "code",
      "metadata": {
        "id": "PLQYYYNM7yP6",
        "colab_type": "code",
        "colab": {
          "base_uri": "https://localhost:8080/",
          "height": 295
        },
        "outputId": "4b9481e6-d0df-45c3-dee8-f8afc9b086dd"
      },
      "source": [
        "# 5. bar chart of respondent age\n",
        "\n",
        "respondent_age = financial_cleaned['respondent_age']\n",
        "\n",
        "plt.hist(respondent_age, histtype='bar', rwidth=0.9)\n",
        "plt.xlabel('respondent age')\n",
        "plt.ylabel('Total number of people')\n",
        "plt.title('Barchart of respondent age')\n",
        "plt.show()"
      ],
      "execution_count": 29,
      "outputs": [
        {
          "output_type": "display_data",
          "data": {
            "image/png": "[encoded data removed]",
            "text/plain": [
              "<Figure size 432x288 with 1 Axes>"
            ]
          },
          "metadata": {
            "tags": [],
            "needs_background": "light"
          }
        }
      ]
    },
    {
      "cell_type": "code",
      "metadata": {
        "id": "smE2ave6-WEg",
        "colab_type": "code",
        "colab": {
          "base_uri": "https://localhost:8080/",
          "height": 295
        },
        "outputId": "ab79a2c7-3cd3-4304-c51b-47a437db2d5b"
      },
      "source": [
        "# 6. bar chart of gender\n",
        "\n",
        "gender_of_respondent = financial_cleaned['gender_of_respondent']\n",
        "\n",
        "plt.hist(gender_of_respondent, histtype='bar', rwidth=0.9)\n",
        "plt.xlabel('gender of respondent')\n",
        "plt.ylabel('Total number of people')\n",
        "plt.title('Barchart of gender of respondent')\n",
        "plt.show()"
      ],
      "execution_count": 30,
      "outputs": [
        {
          "output_type": "display_data",
          "data": {
            "image/png": "[encoded data removed]",
            "text/plain": [
              "<Figure size 432x288 with 1 Axes>"
            ]
          },
          "metadata": {
            "tags": [],
            "needs_background": "light"
          }
        }
      ]
    },
    {
      "cell_type": "code",
      "metadata": {
        "id": "HASs_RN9-1ux",
        "colab_type": "code",
        "colab": {
          "base_uri": "https://localhost:8080/",
          "height": 401
        },
        "outputId": "57d60ead-ac1f-414d-c8e7-82ab022c738f"
      },
      "source": [
        "# 7. bar chart of level of education\n",
        "\n",
        "level_of_education = financial_cleaned['level_of_education']\n",
        "\n",
        "plt.hist(level_of_education, histtype='bar', rwidth=0.9)\n",
        "plt.xticks(rotation=45)\n",
        "plt.xlabel('level of education')\n",
        "plt.ylabel('Total number of people')\n",
        "plt.title('Barchart of level of education')\n",
        "plt.show()"
      ],
      "execution_count": 31,
      "outputs": [
        {
          "output_type": "display_data",
          "data": {
            "image/png": "[encoded data removed]",
            "text/plain": [
              "<Figure size 432x288 with 1 Axes>"
            ]
          },
          "metadata": {
            "tags": [],
            "needs_background": "light"
          }
        }
      ]
    },
    {
      "cell_type": "code",
      "metadata": {
        "id": "TGFlr_wBAkSR",
        "colab_type": "code",
        "colab": {
          "base_uri": "https://localhost:8080/",
          "height": 406
        },
        "outputId": "104d283e-643d-4808-bd91-58f6013e73d4"
      },
      "source": [
        "# 8. bar chart of type of job\n",
        "\n",
        "type_of_job = financial_cleaned['type_of_job']\n",
        "\n",
        "plt.hist(type_of_job, histtype='bar', rwidth=0.9)\n",
        "plt.xticks(rotation=45,horizontalalignment='right',\n",
        "    fontweight='light',\n",
        "    fontsize='medium')\n",
        "plt.xlabel('type of job')\n",
        "plt.ylabel('Total number of people')\n",
        "plt.title('Barchart of type of job')\n",
        "plt.show()"
      ],
      "execution_count": 32,
      "outputs": [
        {
          "output_type": "display_data",
          "data": {
            "image/png": "[encoded data removed]",
            "text/plain": [
              "<Figure size 432x288 with 1 Axes>"
            ]
          },
          "metadata": {
            "tags": [],
            "needs_background": "light"
          }
        }
      ]
    },
    {
      "cell_type": "code",
      "metadata": {
        "id": "LvYL1iTHBbUB",
        "colab_type": "code",
        "colab": {
          "base_uri": "https://localhost:8080/",
          "height": 295
        },
        "outputId": "e4462704-578c-4805-f45e-34459e90b87a"
      },
      "source": [
        "# 9. bar chart of household size\n",
        "\n",
        "household_size = financial_cleaned['household_size']\n",
        "\n",
        "plt.hist(household_size, histtype='bar', rwidth=0.9)\n",
        "plt.xlabel('household size')\n",
        "plt.ylabel('Total number of people')\n",
        "plt.title('Barchart of household size')\n",
        "plt.show()"
      ],
      "execution_count": 33,
      "outputs": [
        {
          "output_type": "display_data",
          "data": {
            "image/png": "[encoded data removed]",
            "text/plain": [
              "<Figure size 432x288 with 1 Axes>"
            ]
          },
          "metadata": {
            "tags": [],
            "needs_background": "light"
          }
        }
      ]
    },
    {
      "cell_type": "code",
      "metadata": {
        "id": "pKMBUoijCwU-",
        "colab_type": "code",
        "colab": {
          "base_uri": "https://localhost:8080/",
          "height": 376
        },
        "outputId": "81bf3ad7-ffe1-496e-e6f7-49f36426fc41"
      },
      "source": [
        "# 10. bar chart of marital status\n",
        "\n",
        "marital_status = financial_cleaned['marital_status']\n",
        "\n",
        "plt.hist(marital_status, histtype='bar', rwidth=0.9)\n",
        "plt.xticks(rotation=45,horizontalalignment='right',\n",
        "    fontweight='light',\n",
        "    fontsize='medium')\n",
        "plt.xlabel('marital_status')\n",
        "plt.ylabel('Total number of people')\n",
        "plt.title('Barchart of marital_status')\n",
        "plt.show()"
      ],
      "execution_count": 34,
      "outputs": [
        {
          "output_type": "display_data",
          "data": {
            "image/png": "[encoded data removed]",
            "text/plain": [
              "<Figure size 432x288 with 1 Axes>"
            ]
          },
          "metadata": {
            "tags": [],
            "needs_background": "light"
          }
        }
      ]
    },
    {
      "cell_type": "code",
      "metadata": {
        "id": "H6z9faNGCGGx",
        "colab_type": "code",
        "colab": {
          "base_uri": "https://localhost:8080/",
          "height": 362
        },
        "outputId": "2090e7f7-969c-443e-b50c-4d76461045a7"
      },
      "source": [
        "# 11. bar chart of relationship_with_head\n",
        "\n",
        "relationship_with_head = financial_cleaned['relationship_with_head']\n",
        "\n",
        "plt.hist(relationship_with_head, histtype='bar', rwidth=0.9)\n",
        "plt.xticks(rotation=45,horizontalalignment='right',\n",
        "    fontweight='light',\n",
        "    fontsize='medium')\n",
        "plt.xlabel('relationship_with_head')\n",
        "plt.ylabel('Total number of people')\n",
        "plt.title('Barchart of relationship_with_head')\n",
        "plt.show()"
      ],
      "execution_count": 35,
      "outputs": [
        {
          "output_type": "display_data",
          "data": {
            "image/png": "[encoded data removed]",
            "text/plain": [
              "<Figure size 432x288 with 1 Axes>"
            ]
          },
          "metadata": {
            "tags": [],
            "needs_background": "light"
          }
        }
      ]
    },
    {
      "cell_type": "markdown",
      "metadata": {
        "id": "uU2SXv0P9rTE",
        "colab_type": "text"
      },
      "source": [
        "  ##  Univariate summaries\n",
        "  1. A big percentage of the data was taken by between individuals age between 16-55years\n",
        " "
      ]
    },
    {
      "cell_type": "markdown",
      "metadata": {
        "id": "JZEsGW406OJp",
        "colab_type": "text"
      },
      "source": [
        ""
      ]
    },
    {
      "cell_type": "markdown",
      "metadata": {
        "id": "2Su0FkTG3YDX",
        "colab_type": "text"
      },
      "source": [
        "# SECTION 5: Bivariate Analysis"
      ]
    },
    {
      "cell_type": "code",
      "metadata": {
        "id": "VJQj2x-w3wNH",
        "colab_type": "code",
        "colab": {
          "base_uri": "https://localhost:8080/",
          "height": 34
        },
        "outputId": "4212985d-c1d5-48d4-e61c-b9610cfae3c2"
      },
      "source": [
        "# To start off we will find the correlation coefficient for the numerical variables excluding the year:\n",
        "\n",
        "print(financial_cleaned['household_size'].corr(financial_cleaned['respondent_age']))\n",
        "\n",
        "# with a correlation coefficient of -0.10, we can conclude that \n",
        "# the relationship between the two variables is very weak\n"
      ],
      "execution_count": 36,
      "outputs": [
        {
          "output_type": "stream",
          "text": [
            "-0.1044304631221166\n"
          ],
          "name": "stdout"
        }
      ]
    },
    {
      "cell_type": "code",
      "metadata": {
        "id": "ddsQSHiezhZz",
        "colab_type": "code",
        "colab": {
          "base_uri": "https://localhost:8080/",
          "height": 441
        },
        "outputId": "9d74f461-bdd3-4460-816e-23ae1644788d"
      },
      "source": [
        "# After finding the correlation, we will then run bivariate analysis of individuals with a bank or not \n",
        "# together with another variable in the dataset to understand how these other variables \n",
        "# affects the chances of an individual having a bank or not\n",
        "\n",
        "# Let's start off with \n",
        "\n",
        "# 1. the location:\n",
        "\n",
        "# used a bar chart for visualization\n",
        "pd.crosstab(financial_cleaned['has_a_bank_account'], financial_cleaned['type_of_location']).plot(kind='bar', stacked=True)\n",
        "\n",
        "# calculated the percentage of total individuals to standardize the data and help derive more meaningful insights\n",
        "bank_location = financial_cleaned[['has_a_bank_account', 'type_of_location', 'uniqueid']]\n",
        "bank_location_grouped = bank_location.groupby(['has_a_bank_account', 'type_of_location']).count().reset_index()\n",
        "bank_location_grouped.rename(columns={'uniqueid':'total_individuals'}, inplace=True)\n",
        "\n",
        "bank_location_grouped['%_total_individuals'] = round(bank_location_grouped ['total_individuals']/bank_location_grouped['total_individuals'].sum()*100, 2)\n",
        "bank_location_grouped.sort_values (by=['has_a_bank_account','%_total_individuals'],ascending =False)\n"
      ],
      "execution_count": 37,
      "outputs": [
        {
          "output_type": "execute_result",
          "data": {
            "text/html": [
              "<div>\n",
              "<style scoped>\n",
              "    .dataframe tbody tr th:only-of-type {\n",
              "        vertical-align: middle;\n",
              "    }\n",
              "\n",
              "    .dataframe tbody tr th {\n",
              "        vertical-align: top;\n",
              "    }\n",
              "\n",
              "    .dataframe thead th {\n",
              "        text-align: right;\n",
              "    }\n",
              "</style>\n",
              "<table border=\"1\" class=\"dataframe\">\n",
              "  <thead>\n",
              "    <tr style=\"text-align: right;\">\n",
              "      <th></th>\n",
              "      <th>has_a_bank_account</th>\n",
              "      <th>type_of_location</th>\n",
              "      <th>total_individuals</th>\n",
              "      <th>%_total_individuals</th>\n",
              "    </tr>\n",
              "  </thead>\n",
              "  <tbody>\n",
              "    <tr>\n",
              "      <th>3</th>\n",
              "      <td>Yes</td>\n",
              "      <td>Urban</td>\n",
              "      <td>1620</td>\n",
              "      <td>7.14</td>\n",
              "    </tr>\n",
              "    <tr>\n",
              "      <th>2</th>\n",
              "      <td>Yes</td>\n",
              "      <td>Rural</td>\n",
              "      <td>1613</td>\n",
              "      <td>7.11</td>\n",
              "    </tr>\n",
              "    <tr>\n",
              "      <th>0</th>\n",
              "      <td>No</td>\n",
              "      <td>Rural</td>\n",
              "      <td>12168</td>\n",
              "      <td>53.62</td>\n",
              "    </tr>\n",
              "    <tr>\n",
              "      <th>1</th>\n",
              "      <td>No</td>\n",
              "      <td>Urban</td>\n",
              "      <td>7291</td>\n",
              "      <td>32.13</td>\n",
              "    </tr>\n",
              "  </tbody>\n",
              "</table>\n",
              "</div>"
            ],
            "text/plain": [
              "  has_a_bank_account type_of_location  total_individuals  %_total_individuals\n",
              "3                Yes            Urban               1620                 7.14\n",
              "2                Yes            Rural               1613                 7.11\n",
              "0                 No            Rural              12168                53.62\n",
              "1                 No            Urban               7291                32.13"
            ]
          },
          "metadata": {
            "tags": []
          },
          "execution_count": 37
        },
        {
          "output_type": "display_data",
          "data": {
            "image/png": "[encoded data removed]",
            "text/plain": [
              "<Figure size 432x288 with 1 Axes>"
            ]
          },
          "metadata": {
            "tags": [],
            "needs_background": "light"
          }
        }
      ]
    },
    {
      "cell_type": "code",
      "metadata": {
        "id": "0_aTH0lGxPxh",
        "colab_type": "code",
        "colab": {
          "base_uri": "https://localhost:8080/",
          "height": 791
        },
        "outputId": "152abc54-93be-4c83-b85d-fe94c9cea638"
      },
      "source": [
        "# 2. respondent age:\n",
        "\n",
        "# used a histogram for visualization\n",
        "financial_cleaned.groupby('has_a_bank_account').respondent_age.hist()\n",
        "\n",
        "# for the age column, we first created age groups for defferent decades as shown with the code below:\n",
        "financial_cleaned['age_bins'] = 'Aged < 20'\n",
        "financial_cleaned.loc[financial_cleaned['respondent_age'] >= 20, 'age_bins'] = 'Aged 20-29'\n",
        "financial_cleaned.loc[financial_cleaned['respondent_age'] >= 30, 'age_bins'] = 'Aged 30-39'\n",
        "financial_cleaned.loc[financial_cleaned['respondent_age'] >= 40, 'age_bins'] = 'Aged 40-49'\n",
        "financial_cleaned.loc[financial_cleaned['respondent_age'] >= 50, 'age_bins'] = 'Aged 50-59'\n",
        "financial_cleaned.loc[financial_cleaned['respondent_age'] >= 60, 'age_bins'] = 'Aged 60-69'\n",
        "financial_cleaned.loc[financial_cleaned['respondent_age'] >= 70, 'age_bins'] = 'Aged 70-79'\n",
        "financial_cleaned.loc[financial_cleaned['respondent_age'] >= 80, 'age_bins'] = 'Aged > 80'\n",
        "\n",
        "# then calculated the percentage of total individuals to standardize the data and help derive more meaningful insights\n",
        "bank_age = financial_cleaned[['respondent_age', 'age_bins','has_a_bank_account', 'uniqueid' ]]\n",
        "\n",
        "bank_age_grouped = bank_age.groupby(['has_a_bank_account','age_bins']).count().reset_index()\n",
        "bank_age_grouped\n",
        "bank_age_grouped.rename(columns={'uniqueid':'total_individuals'}, inplace=True)\n",
        "bank_age_grouped\n",
        "\n",
        "bank_age_grouped['%_total_individuals'] = round(bank_age_grouped ['total_individuals']/bank_age_grouped['total_individuals'].sum()*100, 2)\n",
        "bank_age_grouped.sort_values (by=['has_a_bank_account','%_total_individuals'],ascending =False)\n"
      ],
      "execution_count": 38,
      "outputs": [
        {
          "output_type": "execute_result",
          "data": {
            "text/html": [
              "<div>\n",
              "<style scoped>\n",
              "    .dataframe tbody tr th:only-of-type {\n",
              "        vertical-align: middle;\n",
              "    }\n",
              "\n",
              "    .dataframe tbody tr th {\n",
              "        vertical-align: top;\n",
              "    }\n",
              "\n",
              "    .dataframe thead th {\n",
              "        text-align: right;\n",
              "    }\n",
              "</style>\n",
              "<table border=\"1\" class=\"dataframe\">\n",
              "  <thead>\n",
              "    <tr style=\"text-align: right;\">\n",
              "      <th></th>\n",
              "      <th>has_a_bank_account</th>\n",
              "      <th>age_bins</th>\n",
              "      <th>respondent_age</th>\n",
              "      <th>total_individuals</th>\n",
              "      <th>%_total_individuals</th>\n",
              "    </tr>\n",
              "  </thead>\n",
              "  <tbody>\n",
              "    <tr>\n",
              "      <th>9</th>\n",
              "      <td>Yes</td>\n",
              "      <td>Aged 30-39</td>\n",
              "      <td>1017</td>\n",
              "      <td>1017</td>\n",
              "      <td>4.48</td>\n",
              "    </tr>\n",
              "    <tr>\n",
              "      <th>8</th>\n",
              "      <td>Yes</td>\n",
              "      <td>Aged 20-29</td>\n",
              "      <td>812</td>\n",
              "      <td>812</td>\n",
              "      <td>3.58</td>\n",
              "    </tr>\n",
              "    <tr>\n",
              "      <th>10</th>\n",
              "      <td>Yes</td>\n",
              "      <td>Aged 40-49</td>\n",
              "      <td>622</td>\n",
              "      <td>622</td>\n",
              "      <td>2.74</td>\n",
              "    </tr>\n",
              "    <tr>\n",
              "      <th>11</th>\n",
              "      <td>Yes</td>\n",
              "      <td>Aged 50-59</td>\n",
              "      <td>398</td>\n",
              "      <td>398</td>\n",
              "      <td>1.75</td>\n",
              "    </tr>\n",
              "    <tr>\n",
              "      <th>12</th>\n",
              "      <td>Yes</td>\n",
              "      <td>Aged 60-69</td>\n",
              "      <td>183</td>\n",
              "      <td>183</td>\n",
              "      <td>0.81</td>\n",
              "    </tr>\n",
              "    <tr>\n",
              "      <th>13</th>\n",
              "      <td>Yes</td>\n",
              "      <td>Aged 70-79</td>\n",
              "      <td>115</td>\n",
              "      <td>115</td>\n",
              "      <td>0.51</td>\n",
              "    </tr>\n",
              "    <tr>\n",
              "      <th>14</th>\n",
              "      <td>Yes</td>\n",
              "      <td>Aged &lt; 20</td>\n",
              "      <td>60</td>\n",
              "      <td>60</td>\n",
              "      <td>0.26</td>\n",
              "    </tr>\n",
              "    <tr>\n",
              "      <th>15</th>\n",
              "      <td>Yes</td>\n",
              "      <td>Aged &gt; 80</td>\n",
              "      <td>26</td>\n",
              "      <td>26</td>\n",
              "      <td>0.11</td>\n",
              "    </tr>\n",
              "    <tr>\n",
              "      <th>0</th>\n",
              "      <td>No</td>\n",
              "      <td>Aged 20-29</td>\n",
              "      <td>5111</td>\n",
              "      <td>5111</td>\n",
              "      <td>22.52</td>\n",
              "    </tr>\n",
              "    <tr>\n",
              "      <th>1</th>\n",
              "      <td>No</td>\n",
              "      <td>Aged 30-39</td>\n",
              "      <td>4813</td>\n",
              "      <td>4813</td>\n",
              "      <td>21.21</td>\n",
              "    </tr>\n",
              "    <tr>\n",
              "      <th>2</th>\n",
              "      <td>No</td>\n",
              "      <td>Aged 40-49</td>\n",
              "      <td>3056</td>\n",
              "      <td>3056</td>\n",
              "      <td>13.47</td>\n",
              "    </tr>\n",
              "    <tr>\n",
              "      <th>3</th>\n",
              "      <td>No</td>\n",
              "      <td>Aged 50-59</td>\n",
              "      <td>2082</td>\n",
              "      <td>2082</td>\n",
              "      <td>9.18</td>\n",
              "    </tr>\n",
              "    <tr>\n",
              "      <th>6</th>\n",
              "      <td>No</td>\n",
              "      <td>Aged &lt; 20</td>\n",
              "      <td>1843</td>\n",
              "      <td>1843</td>\n",
              "      <td>8.12</td>\n",
              "    </tr>\n",
              "    <tr>\n",
              "      <th>4</th>\n",
              "      <td>No</td>\n",
              "      <td>Aged 60-69</td>\n",
              "      <td>1485</td>\n",
              "      <td>1485</td>\n",
              "      <td>6.54</td>\n",
              "    </tr>\n",
              "    <tr>\n",
              "      <th>5</th>\n",
              "      <td>No</td>\n",
              "      <td>Aged 70-79</td>\n",
              "      <td>907</td>\n",
              "      <td>907</td>\n",
              "      <td>4.00</td>\n",
              "    </tr>\n",
              "    <tr>\n",
              "      <th>7</th>\n",
              "      <td>No</td>\n",
              "      <td>Aged &gt; 80</td>\n",
              "      <td>162</td>\n",
              "      <td>162</td>\n",
              "      <td>0.71</td>\n",
              "    </tr>\n",
              "  </tbody>\n",
              "</table>\n",
              "</div>"
            ],
            "text/plain": [
              "   has_a_bank_account    age_bins  ...  total_individuals  %_total_individuals\n",
              "9                 Yes  Aged 30-39  ...               1017                 4.48\n",
              "8                 Yes  Aged 20-29  ...                812                 3.58\n",
              "10                Yes  Aged 40-49  ...                622                 2.74\n",
              "11                Yes  Aged 50-59  ...                398                 1.75\n",
              "12                Yes  Aged 60-69  ...                183                 0.81\n",
              "13                Yes  Aged 70-79  ...                115                 0.51\n",
              "14                Yes   Aged < 20  ...                 60                 0.26\n",
              "15                Yes   Aged > 80  ...                 26                 0.11\n",
              "0                  No  Aged 20-29  ...               5111                22.52\n",
              "1                  No  Aged 30-39  ...               4813                21.21\n",
              "2                  No  Aged 40-49  ...               3056                13.47\n",
              "3                  No  Aged 50-59  ...               2082                 9.18\n",
              "6                  No   Aged < 20  ...               1843                 8.12\n",
              "4                  No  Aged 60-69  ...               1485                 6.54\n",
              "5                  No  Aged 70-79  ...                907                 4.00\n",
              "7                  No   Aged > 80  ...                162                 0.71\n",
              "\n",
              "[16 rows x 5 columns]"
            ]
          },
          "metadata": {
            "tags": []
          },
          "execution_count": 38
        },
        {
          "output_type": "display_data",
          "data": {
            "image/png": "[encoded data removed]",
            "text/plain": [
              "<Figure size 432x288 with 1 Axes>"
            ]
          },
          "metadata": {
            "tags": [],
            "needs_background": "light"
          }
        }
      ]
    },
    {
      "cell_type": "code",
      "metadata": {
        "id": "W9ykaNHg0KIY",
        "colab_type": "code",
        "colab": {
          "base_uri": "https://localhost:8080/",
          "height": 936
        },
        "outputId": "909188c9-3bdd-42a9-8934-81278dff664c"
      },
      "source": [
        "# 3. Type of job:\n",
        "\n",
        "# used a stacked bar chart for visualization\n",
        "pd.crosstab(financial_cleaned['has_a_bank_account'], financial_cleaned['type_of_job']).plot(kind='bar', stacked=True)\n",
        "\n",
        "# calculated the percentage of total individuals to standardize the data and help derive more meaningful insights\n",
        "bank_job = financial_cleaned[['has_a_bank_account', 'type_of_job', 'uniqueid']]\n",
        "bank_job_grouped = bank_job.groupby(['has_a_bank_account', 'type_of_job']).count().reset_index()\n",
        "bank_job_grouped.rename(columns={'uniqueid':'total_individuals'}, inplace=True)\n",
        "\n",
        "bank_job_grouped['%_total_individuals'] = round(bank_job_grouped ['total_individuals']/bank_job_grouped['total_individuals'].sum()*100, 2)\n",
        "bank_job_grouped.sort_values (by=['has_a_bank_account','%_total_individuals'],ascending =False)\n"
      ],
      "execution_count": 39,
      "outputs": [
        {
          "output_type": "execute_result",
          "data": {
            "text/html": [
              "<div>\n",
              "<style scoped>\n",
              "    .dataframe tbody tr th:only-of-type {\n",
              "        vertical-align: middle;\n",
              "    }\n",
              "\n",
              "    .dataframe tbody tr th {\n",
              "        vertical-align: top;\n",
              "    }\n",
              "\n",
              "    .dataframe thead th {\n",
              "        text-align: right;\n",
              "    }\n",
              "</style>\n",
              "<table border=\"1\" class=\"dataframe\">\n",
              "  <thead>\n",
              "    <tr style=\"text-align: right;\">\n",
              "      <th></th>\n",
              "      <th>has_a_bank_account</th>\n",
              "      <th>type_of_job</th>\n",
              "      <th>total_individuals</th>\n",
              "      <th>%_total_individuals</th>\n",
              "    </tr>\n",
              "  </thead>\n",
              "  <tbody>\n",
              "    <tr>\n",
              "      <th>19</th>\n",
              "      <td>Yes</td>\n",
              "      <td>Self employed</td>\n",
              "      <td>835</td>\n",
              "      <td>3.68</td>\n",
              "    </tr>\n",
              "    <tr>\n",
              "      <th>11</th>\n",
              "      <td>Yes</td>\n",
              "      <td>Farming and Fishing</td>\n",
              "      <td>619</td>\n",
              "      <td>2.73</td>\n",
              "    </tr>\n",
              "    <tr>\n",
              "      <th>13</th>\n",
              "      <td>Yes</td>\n",
              "      <td>Formally employed Private</td>\n",
              "      <td>564</td>\n",
              "      <td>2.49</td>\n",
              "    </tr>\n",
              "    <tr>\n",
              "      <th>15</th>\n",
              "      <td>Yes</td>\n",
              "      <td>Informally employed</td>\n",
              "      <td>438</td>\n",
              "      <td>1.93</td>\n",
              "    </tr>\n",
              "    <tr>\n",
              "      <th>12</th>\n",
              "      <td>Yes</td>\n",
              "      <td>Formally employed Government</td>\n",
              "      <td>297</td>\n",
              "      <td>1.31</td>\n",
              "    </tr>\n",
              "    <tr>\n",
              "      <th>18</th>\n",
              "      <td>Yes</td>\n",
              "      <td>Remittance Dependent</td>\n",
              "      <td>229</td>\n",
              "      <td>1.01</td>\n",
              "    </tr>\n",
              "    <tr>\n",
              "      <th>17</th>\n",
              "      <td>Yes</td>\n",
              "      <td>Other Income</td>\n",
              "      <td>183</td>\n",
              "      <td>0.81</td>\n",
              "    </tr>\n",
              "    <tr>\n",
              "      <th>14</th>\n",
              "      <td>Yes</td>\n",
              "      <td>Government Dependent</td>\n",
              "      <td>41</td>\n",
              "      <td>0.18</td>\n",
              "    </tr>\n",
              "    <tr>\n",
              "      <th>10</th>\n",
              "      <td>Yes</td>\n",
              "      <td>Dont Know/Refuse to answer</td>\n",
              "      <td>14</td>\n",
              "      <td>0.06</td>\n",
              "    </tr>\n",
              "    <tr>\n",
              "      <th>16</th>\n",
              "      <td>Yes</td>\n",
              "      <td>No Income</td>\n",
              "      <td>13</td>\n",
              "      <td>0.06</td>\n",
              "    </tr>\n",
              "    <tr>\n",
              "      <th>9</th>\n",
              "      <td>No</td>\n",
              "      <td>Self employed</td>\n",
              "      <td>5373</td>\n",
              "      <td>23.68</td>\n",
              "    </tr>\n",
              "    <tr>\n",
              "      <th>5</th>\n",
              "      <td>No</td>\n",
              "      <td>Informally employed</td>\n",
              "      <td>5050</td>\n",
              "      <td>22.25</td>\n",
              "    </tr>\n",
              "    <tr>\n",
              "      <th>1</th>\n",
              "      <td>No</td>\n",
              "      <td>Farming and Fishing</td>\n",
              "      <td>4666</td>\n",
              "      <td>20.56</td>\n",
              "    </tr>\n",
              "    <tr>\n",
              "      <th>8</th>\n",
              "      <td>No</td>\n",
              "      <td>Remittance Dependent</td>\n",
              "      <td>2133</td>\n",
              "      <td>9.40</td>\n",
              "    </tr>\n",
              "    <tr>\n",
              "      <th>7</th>\n",
              "      <td>No</td>\n",
              "      <td>Other Income</td>\n",
              "      <td>842</td>\n",
              "      <td>3.71</td>\n",
              "    </tr>\n",
              "    <tr>\n",
              "      <th>6</th>\n",
              "      <td>No</td>\n",
              "      <td>No Income</td>\n",
              "      <td>571</td>\n",
              "      <td>2.52</td>\n",
              "    </tr>\n",
              "    <tr>\n",
              "      <th>3</th>\n",
              "      <td>No</td>\n",
              "      <td>Formally employed Private</td>\n",
              "      <td>471</td>\n",
              "      <td>2.08</td>\n",
              "    </tr>\n",
              "    <tr>\n",
              "      <th>4</th>\n",
              "      <td>No</td>\n",
              "      <td>Government Dependent</td>\n",
              "      <td>164</td>\n",
              "      <td>0.72</td>\n",
              "    </tr>\n",
              "    <tr>\n",
              "      <th>0</th>\n",
              "      <td>No</td>\n",
              "      <td>Dont Know/Refuse to answer</td>\n",
              "      <td>104</td>\n",
              "      <td>0.46</td>\n",
              "    </tr>\n",
              "    <tr>\n",
              "      <th>2</th>\n",
              "      <td>No</td>\n",
              "      <td>Formally employed Government</td>\n",
              "      <td>85</td>\n",
              "      <td>0.37</td>\n",
              "    </tr>\n",
              "  </tbody>\n",
              "</table>\n",
              "</div>"
            ],
            "text/plain": [
              "   has_a_bank_account  ... %_total_individuals\n",
              "19                Yes  ...                3.68\n",
              "11                Yes  ...                2.73\n",
              "13                Yes  ...                2.49\n",
              "15                Yes  ...                1.93\n",
              "12                Yes  ...                1.31\n",
              "18                Yes  ...                1.01\n",
              "17                Yes  ...                0.81\n",
              "14                Yes  ...                0.18\n",
              "10                Yes  ...                0.06\n",
              "16                Yes  ...                0.06\n",
              "9                  No  ...               23.68\n",
              "5                  No  ...               22.25\n",
              "1                  No  ...               20.56\n",
              "8                  No  ...                9.40\n",
              "7                  No  ...                3.71\n",
              "6                  No  ...                2.52\n",
              "3                  No  ...                2.08\n",
              "4                  No  ...                0.72\n",
              "0                  No  ...                0.46\n",
              "2                  No  ...                0.37\n",
              "\n",
              "[20 rows x 4 columns]"
            ]
          },
          "metadata": {
            "tags": []
          },
          "execution_count": 39
        },
        {
          "output_type": "display_data",
          "data": {
            "image/png": "[encoded data removed]",
            "text/plain": [
              "<Figure size 432x288 with 1 Axes>"
            ]
          },
          "metadata": {
            "tags": [],
            "needs_background": "light"
          }
        }
      ]
    },
    {
      "cell_type": "code",
      "metadata": {
        "id": "cHmYnPSP4LAL",
        "colab_type": "code",
        "colab": {
          "base_uri": "https://localhost:8080/",
          "height": 719
        },
        "outputId": "2697700b-699e-4fac-8b84-8fc652aaf8a6"
      },
      "source": [
        "# 4. level of education;\n",
        "\n",
        "# used a stacked bar chart for visualization\n",
        "pd.crosstab(financial_cleaned['has_a_bank_account'], financial_cleaned['level_of_education']).plot(kind='bar', stacked=True)\n",
        "\n",
        "# calculated the percentage of total individuals to standardize the data and help derive more meaningful insights\n",
        "bank_education = financial_cleaned[['has_a_bank_account', 'level_of_education', 'uniqueid']]\n",
        "bank_education_grouped = bank_education.groupby(['has_a_bank_account', 'level_of_education']).count().reset_index()\n",
        "bank_education_grouped.rename(columns={'uniqueid':'total_individuals'}, inplace=True)\n",
        "\n",
        "bank_education_grouped['%_total_individuals'] = round(bank_education_grouped ['total_individuals']/bank_education_grouped['total_individuals'].sum()*100, 2)\n",
        "bank_education_grouped.sort_values (by=['has_a_bank_account','%_total_individuals'],ascending =False)\n",
        "\n"
      ],
      "execution_count": 40,
      "outputs": [
        {
          "output_type": "execute_result",
          "data": {
            "text/html": [
              "<div>\n",
              "<style scoped>\n",
              "    .dataframe tbody tr th:only-of-type {\n",
              "        vertical-align: middle;\n",
              "    }\n",
              "\n",
              "    .dataframe tbody tr th {\n",
              "        vertical-align: top;\n",
              "    }\n",
              "\n",
              "    .dataframe thead th {\n",
              "        text-align: right;\n",
              "    }\n",
              "</style>\n",
              "<table border=\"1\" class=\"dataframe\">\n",
              "  <thead>\n",
              "    <tr style=\"text-align: right;\">\n",
              "      <th></th>\n",
              "      <th>has_a_bank_account</th>\n",
              "      <th>level_of_education</th>\n",
              "      <th>total_individuals</th>\n",
              "      <th>%_total_individuals</th>\n",
              "    </tr>\n",
              "  </thead>\n",
              "  <tbody>\n",
              "    <tr>\n",
              "      <th>9</th>\n",
              "      <td>Yes</td>\n",
              "      <td>Primary education</td>\n",
              "      <td>1059</td>\n",
              "      <td>4.67</td>\n",
              "    </tr>\n",
              "    <tr>\n",
              "      <th>10</th>\n",
              "      <td>Yes</td>\n",
              "      <td>Secondary education</td>\n",
              "      <td>968</td>\n",
              "      <td>4.27</td>\n",
              "    </tr>\n",
              "    <tr>\n",
              "      <th>11</th>\n",
              "      <td>Yes</td>\n",
              "      <td>Tertiary education</td>\n",
              "      <td>584</td>\n",
              "      <td>2.57</td>\n",
              "    </tr>\n",
              "    <tr>\n",
              "      <th>12</th>\n",
              "      <td>Yes</td>\n",
              "      <td>Vocational/Specialised training</td>\n",
              "      <td>450</td>\n",
              "      <td>1.98</td>\n",
              "    </tr>\n",
              "    <tr>\n",
              "      <th>7</th>\n",
              "      <td>Yes</td>\n",
              "      <td>No formal education</td>\n",
              "      <td>161</td>\n",
              "      <td>0.71</td>\n",
              "    </tr>\n",
              "    <tr>\n",
              "      <th>8</th>\n",
              "      <td>Yes</td>\n",
              "      <td>Other/Dont know/RTA</td>\n",
              "      <td>6</td>\n",
              "      <td>0.03</td>\n",
              "    </tr>\n",
              "    <tr>\n",
              "      <th>6</th>\n",
              "      <td>Yes</td>\n",
              "      <td>6</td>\n",
              "      <td>5</td>\n",
              "      <td>0.02</td>\n",
              "    </tr>\n",
              "    <tr>\n",
              "      <th>2</th>\n",
              "      <td>No</td>\n",
              "      <td>Primary education</td>\n",
              "      <td>11371</td>\n",
              "      <td>50.11</td>\n",
              "    </tr>\n",
              "    <tr>\n",
              "      <th>1</th>\n",
              "      <td>No</td>\n",
              "      <td>No formal education</td>\n",
              "      <td>4052</td>\n",
              "      <td>17.86</td>\n",
              "    </tr>\n",
              "    <tr>\n",
              "      <th>3</th>\n",
              "      <td>No</td>\n",
              "      <td>Secondary education</td>\n",
              "      <td>3131</td>\n",
              "      <td>13.80</td>\n",
              "    </tr>\n",
              "    <tr>\n",
              "      <th>4</th>\n",
              "      <td>No</td>\n",
              "      <td>Tertiary education</td>\n",
              "      <td>550</td>\n",
              "      <td>2.42</td>\n",
              "    </tr>\n",
              "    <tr>\n",
              "      <th>5</th>\n",
              "      <td>No</td>\n",
              "      <td>Vocational/Specialised training</td>\n",
              "      <td>335</td>\n",
              "      <td>1.48</td>\n",
              "    </tr>\n",
              "    <tr>\n",
              "      <th>0</th>\n",
              "      <td>No</td>\n",
              "      <td>6</td>\n",
              "      <td>20</td>\n",
              "      <td>0.09</td>\n",
              "    </tr>\n",
              "  </tbody>\n",
              "</table>\n",
              "</div>"
            ],
            "text/plain": [
              "   has_a_bank_account  ... %_total_individuals\n",
              "9                 Yes  ...                4.67\n",
              "10                Yes  ...                4.27\n",
              "11                Yes  ...                2.57\n",
              "12                Yes  ...                1.98\n",
              "7                 Yes  ...                0.71\n",
              "8                 Yes  ...                0.03\n",
              "6                 Yes  ...                0.02\n",
              "2                  No  ...               50.11\n",
              "1                  No  ...               17.86\n",
              "3                  No  ...               13.80\n",
              "4                  No  ...                2.42\n",
              "5                  No  ...                1.48\n",
              "0                  No  ...                0.09\n",
              "\n",
              "[13 rows x 4 columns]"
            ]
          },
          "metadata": {
            "tags": []
          },
          "execution_count": 40
        },
        {
          "output_type": "display_data",
          "data": {
            "image/png": "[encoded data removed]",
            "text/plain": [
              "<Figure size 432x288 with 1 Axes>"
            ]
          },
          "metadata": {
            "tags": [],
            "needs_background": "light"
          }
        }
      ]
    },
    {
      "cell_type": "code",
      "metadata": {
        "id": "jFYwg1_I4egJ",
        "colab_type": "code",
        "colab": {
          "base_uri": "https://localhost:8080/",
          "height": 441
        },
        "outputId": "c51bd4a3-f5ff-4da5-a579-f72b9c648a70"
      },
      "source": [
        "# 5. Cell phone access\n",
        "\n",
        "# used a stacked bar chart for visualization\n",
        "pd.crosstab(financial_cleaned['has_a_bank_account'], financial_cleaned['cell_phone_access']).plot(kind='bar', stacked=True)\n",
        "\n",
        "# calculated the percentage of total individuals to standardize the data and help derive more meaningful insights\n",
        "bank_phone = financial_cleaned[['has_a_bank_account', 'cell_phone_access', 'uniqueid']]\n",
        "bank_phone_grouped = bank_phone.groupby(['has_a_bank_account', 'cell_phone_access']).count().reset_index()\n",
        "bank_phone_grouped.rename(columns={'uniqueid':'total_individuals'}, inplace=True)\n",
        "\n",
        "bank_phone_grouped['%_total_individuals'] = round(bank_phone_grouped ['total_individuals']/bank_phone_grouped['total_individuals'].sum()*100, 2)\n",
        "bank_phone_grouped.sort_values (by=['has_a_bank_account','%_total_individuals'],ascending =False)\n"
      ],
      "execution_count": 41,
      "outputs": [
        {
          "output_type": "execute_result",
          "data": {
            "text/html": [
              "<div>\n",
              "<style scoped>\n",
              "    .dataframe tbody tr th:only-of-type {\n",
              "        vertical-align: middle;\n",
              "    }\n",
              "\n",
              "    .dataframe tbody tr th {\n",
              "        vertical-align: top;\n",
              "    }\n",
              "\n",
              "    .dataframe thead th {\n",
              "        text-align: right;\n",
              "    }\n",
              "</style>\n",
              "<table border=\"1\" class=\"dataframe\">\n",
              "  <thead>\n",
              "    <tr style=\"text-align: right;\">\n",
              "      <th></th>\n",
              "      <th>has_a_bank_account</th>\n",
              "      <th>cell_phone_access</th>\n",
              "      <th>total_individuals</th>\n",
              "      <th>%_total_individuals</th>\n",
              "    </tr>\n",
              "  </thead>\n",
              "  <tbody>\n",
              "    <tr>\n",
              "      <th>3</th>\n",
              "      <td>Yes</td>\n",
              "      <td>Yes</td>\n",
              "      <td>3140</td>\n",
              "      <td>13.84</td>\n",
              "    </tr>\n",
              "    <tr>\n",
              "      <th>2</th>\n",
              "      <td>Yes</td>\n",
              "      <td>No</td>\n",
              "      <td>93</td>\n",
              "      <td>0.41</td>\n",
              "    </tr>\n",
              "    <tr>\n",
              "      <th>1</th>\n",
              "      <td>No</td>\n",
              "      <td>Yes</td>\n",
              "      <td>13830</td>\n",
              "      <td>60.95</td>\n",
              "    </tr>\n",
              "    <tr>\n",
              "      <th>0</th>\n",
              "      <td>No</td>\n",
              "      <td>No</td>\n",
              "      <td>5629</td>\n",
              "      <td>24.81</td>\n",
              "    </tr>\n",
              "  </tbody>\n",
              "</table>\n",
              "</div>"
            ],
            "text/plain": [
              "  has_a_bank_account cell_phone_access  total_individuals  %_total_individuals\n",
              "3                Yes               Yes               3140                13.84\n",
              "2                Yes                No                 93                 0.41\n",
              "1                 No               Yes              13830                60.95\n",
              "0                 No                No               5629                24.81"
            ]
          },
          "metadata": {
            "tags": []
          },
          "execution_count": 41
        },
        {
          "output_type": "display_data",
          "data": {
            "image/png": "[encoded data removed]",
            "text/plain": [
              "<Figure size 432x288 with 1 Axes>"
            ]
          },
          "metadata": {
            "tags": [],
            "needs_background": "light"
          }
        }
      ]
    },
    {
      "cell_type": "code",
      "metadata": {
        "id": "RS47x-im4y4B",
        "colab_type": "code",
        "colab": {
          "base_uri": "https://localhost:8080/",
          "height": 441
        },
        "outputId": "26124c59-c409-4ee8-fad3-baca0ffe7a95"
      },
      "source": [
        "# 6. Gender\n",
        "\n",
        "# used a stacked bar chart for visualization\n",
        "pd.crosstab(financial_cleaned['has_a_bank_account'], financial_cleaned['gender_of_respondent']).plot(kind='bar', stacked=True)\n",
        "\n",
        "# calculated the percentage of total individuals to standardize the data and help derive more meaningful insights\n",
        "bank_gender = financial_cleaned[['has_a_bank_account', 'gender_of_respondent', 'uniqueid']]\n",
        "bank_gender_grouped = bank_gender.groupby(['has_a_bank_account', 'gender_of_respondent']).count().reset_index()\n",
        "bank_gender_grouped.rename(columns={'uniqueid':'total_individuals'}, inplace=True)\n",
        "\n",
        "bank_gender_grouped['%_total_individuals'] = round(bank_gender_grouped ['total_individuals']/bank_gender_grouped['total_individuals'].sum()*100, 2)\n",
        "bank_gender_grouped.sort_values (by=['has_a_bank_account','%_total_individuals'],ascending =False)\n"
      ],
      "execution_count": 42,
      "outputs": [
        {
          "output_type": "execute_result",
          "data": {
            "text/html": [
              "<div>\n",
              "<style scoped>\n",
              "    .dataframe tbody tr th:only-of-type {\n",
              "        vertical-align: middle;\n",
              "    }\n",
              "\n",
              "    .dataframe tbody tr th {\n",
              "        vertical-align: top;\n",
              "    }\n",
              "\n",
              "    .dataframe thead th {\n",
              "        text-align: right;\n",
              "    }\n",
              "</style>\n",
              "<table border=\"1\" class=\"dataframe\">\n",
              "  <thead>\n",
              "    <tr style=\"text-align: right;\">\n",
              "      <th></th>\n",
              "      <th>has_a_bank_account</th>\n",
              "      <th>gender_of_respondent</th>\n",
              "      <th>total_individuals</th>\n",
              "      <th>%_total_individuals</th>\n",
              "    </tr>\n",
              "  </thead>\n",
              "  <tbody>\n",
              "    <tr>\n",
              "      <th>3</th>\n",
              "      <td>Yes</td>\n",
              "      <td>Male</td>\n",
              "      <td>1781</td>\n",
              "      <td>7.85</td>\n",
              "    </tr>\n",
              "    <tr>\n",
              "      <th>2</th>\n",
              "      <td>Yes</td>\n",
              "      <td>Female</td>\n",
              "      <td>1452</td>\n",
              "      <td>6.40</td>\n",
              "    </tr>\n",
              "    <tr>\n",
              "      <th>0</th>\n",
              "      <td>No</td>\n",
              "      <td>Female</td>\n",
              "      <td>11927</td>\n",
              "      <td>52.56</td>\n",
              "    </tr>\n",
              "    <tr>\n",
              "      <th>1</th>\n",
              "      <td>No</td>\n",
              "      <td>Male</td>\n",
              "      <td>7532</td>\n",
              "      <td>33.19</td>\n",
              "    </tr>\n",
              "  </tbody>\n",
              "</table>\n",
              "</div>"
            ],
            "text/plain": [
              "  has_a_bank_account  ... %_total_individuals\n",
              "3                Yes  ...                7.85\n",
              "2                Yes  ...                6.40\n",
              "0                 No  ...               52.56\n",
              "1                 No  ...               33.19\n",
              "\n",
              "[4 rows x 4 columns]"
            ]
          },
          "metadata": {
            "tags": []
          },
          "execution_count": 42
        },
        {
          "output_type": "display_data",
          "data": {
            "image/png": "[encoded data removed]",
            "text/plain": [
              "<Figure size 432x288 with 1 Axes>"
            ]
          },
          "metadata": {
            "tags": [],
            "needs_background": "light"
          }
        }
      ]
    },
    {
      "cell_type": "code",
      "metadata": {
        "id": "sJIT7Dia5F4q",
        "colab_type": "code",
        "colab": {
          "base_uri": "https://localhost:8080/",
          "height": 936
        },
        "outputId": "68666069-0bd8-41dd-8b68-0656cf867fa8"
      },
      "source": [
        "#7. Household size\n",
        "\n",
        "# used a stacked bar chart for visualization\n",
        "pd.crosstab(financial_cleaned['has_a_bank_account'], financial_cleaned['household_size']).plot(kind='bar', stacked=True)\n",
        "\n",
        "# calculated the percentage of total individuals to standardize the data and help derive more meaningful insights\n",
        "bank_size = financial_cleaned[['has_a_bank_account', 'household_size', 'uniqueid']]\n",
        "bank_size_grouped = bank_size.groupby(['has_a_bank_account', 'household_size']).count().reset_index()\n",
        "bank_size_grouped.rename(columns={'uniqueid':'total_individuals'}, inplace=True)\n",
        "\n",
        "bank_size_grouped['%_total_individuals'] = round(bank_size_grouped ['total_individuals']/bank_size_grouped['total_individuals'].sum()*100, 2)\n",
        "bank_size_grouped.sort_values (by=['has_a_bank_account','%_total_individuals'],ascending =False)\n"
      ],
      "execution_count": 43,
      "outputs": [
        {
          "output_type": "execute_result",
          "data": {
            "text/html": [
              "<div>\n",
              "<style scoped>\n",
              "    .dataframe tbody tr th:only-of-type {\n",
              "        vertical-align: middle;\n",
              "    }\n",
              "\n",
              "    .dataframe tbody tr th {\n",
              "        vertical-align: top;\n",
              "    }\n",
              "\n",
              "    .dataframe thead th {\n",
              "        text-align: right;\n",
              "    }\n",
              "</style>\n",
              "<table border=\"1\" class=\"dataframe\">\n",
              "  <thead>\n",
              "    <tr style=\"text-align: right;\">\n",
              "      <th></th>\n",
              "      <th>has_a_bank_account</th>\n",
              "      <th>household_size</th>\n",
              "      <th>total_individuals</th>\n",
              "      <th>%_total_individuals</th>\n",
              "    </tr>\n",
              "  </thead>\n",
              "  <tbody>\n",
              "    <tr>\n",
              "      <th>11</th>\n",
              "      <td>Yes</td>\n",
              "      <td>1.0</td>\n",
              "      <td>666</td>\n",
              "      <td>2.93</td>\n",
              "    </tr>\n",
              "    <tr>\n",
              "      <th>12</th>\n",
              "      <td>Yes</td>\n",
              "      <td>2.0</td>\n",
              "      <td>620</td>\n",
              "      <td>2.73</td>\n",
              "    </tr>\n",
              "    <tr>\n",
              "      <th>13</th>\n",
              "      <td>Yes</td>\n",
              "      <td>3.0</td>\n",
              "      <td>501</td>\n",
              "      <td>2.21</td>\n",
              "    </tr>\n",
              "    <tr>\n",
              "      <th>14</th>\n",
              "      <td>Yes</td>\n",
              "      <td>4.0</td>\n",
              "      <td>469</td>\n",
              "      <td>2.07</td>\n",
              "    </tr>\n",
              "    <tr>\n",
              "      <th>15</th>\n",
              "      <td>Yes</td>\n",
              "      <td>5.0</td>\n",
              "      <td>410</td>\n",
              "      <td>1.81</td>\n",
              "    </tr>\n",
              "    <tr>\n",
              "      <th>16</th>\n",
              "      <td>Yes</td>\n",
              "      <td>6.0</td>\n",
              "      <td>268</td>\n",
              "      <td>1.18</td>\n",
              "    </tr>\n",
              "    <tr>\n",
              "      <th>17</th>\n",
              "      <td>Yes</td>\n",
              "      <td>7.0</td>\n",
              "      <td>177</td>\n",
              "      <td>0.78</td>\n",
              "    </tr>\n",
              "    <tr>\n",
              "      <th>18</th>\n",
              "      <td>Yes</td>\n",
              "      <td>8.0</td>\n",
              "      <td>85</td>\n",
              "      <td>0.37</td>\n",
              "    </tr>\n",
              "    <tr>\n",
              "      <th>19</th>\n",
              "      <td>Yes</td>\n",
              "      <td>9.0</td>\n",
              "      <td>36</td>\n",
              "      <td>0.16</td>\n",
              "    </tr>\n",
              "    <tr>\n",
              "      <th>10</th>\n",
              "      <td>Yes</td>\n",
              "      <td>0.0</td>\n",
              "      <td>1</td>\n",
              "      <td>0.00</td>\n",
              "    </tr>\n",
              "    <tr>\n",
              "      <th>2</th>\n",
              "      <td>No</td>\n",
              "      <td>2.0</td>\n",
              "      <td>4372</td>\n",
              "      <td>19.27</td>\n",
              "    </tr>\n",
              "    <tr>\n",
              "      <th>1</th>\n",
              "      <td>No</td>\n",
              "      <td>1.0</td>\n",
              "      <td>3172</td>\n",
              "      <td>13.98</td>\n",
              "    </tr>\n",
              "    <tr>\n",
              "      <th>3</th>\n",
              "      <td>No</td>\n",
              "      <td>3.0</td>\n",
              "      <td>2969</td>\n",
              "      <td>13.08</td>\n",
              "    </tr>\n",
              "    <tr>\n",
              "      <th>4</th>\n",
              "      <td>No</td>\n",
              "      <td>4.0</td>\n",
              "      <td>2707</td>\n",
              "      <td>11.93</td>\n",
              "    </tr>\n",
              "    <tr>\n",
              "      <th>5</th>\n",
              "      <td>No</td>\n",
              "      <td>5.0</td>\n",
              "      <td>2294</td>\n",
              "      <td>10.11</td>\n",
              "    </tr>\n",
              "    <tr>\n",
              "      <th>6</th>\n",
              "      <td>No</td>\n",
              "      <td>6.0</td>\n",
              "      <td>1752</td>\n",
              "      <td>7.72</td>\n",
              "    </tr>\n",
              "    <tr>\n",
              "      <th>7</th>\n",
              "      <td>No</td>\n",
              "      <td>7.0</td>\n",
              "      <td>1196</td>\n",
              "      <td>5.27</td>\n",
              "    </tr>\n",
              "    <tr>\n",
              "      <th>8</th>\n",
              "      <td>No</td>\n",
              "      <td>8.0</td>\n",
              "      <td>655</td>\n",
              "      <td>2.89</td>\n",
              "    </tr>\n",
              "    <tr>\n",
              "      <th>9</th>\n",
              "      <td>No</td>\n",
              "      <td>9.0</td>\n",
              "      <td>316</td>\n",
              "      <td>1.39</td>\n",
              "    </tr>\n",
              "    <tr>\n",
              "      <th>0</th>\n",
              "      <td>No</td>\n",
              "      <td>0.0</td>\n",
              "      <td>26</td>\n",
              "      <td>0.11</td>\n",
              "    </tr>\n",
              "  </tbody>\n",
              "</table>\n",
              "</div>"
            ],
            "text/plain": [
              "   has_a_bank_account  household_size  total_individuals  %_total_individuals\n",
              "11                Yes             1.0                666                 2.93\n",
              "12                Yes             2.0                620                 2.73\n",
              "13                Yes             3.0                501                 2.21\n",
              "14                Yes             4.0                469                 2.07\n",
              "15                Yes             5.0                410                 1.81\n",
              "16                Yes             6.0                268                 1.18\n",
              "17                Yes             7.0                177                 0.78\n",
              "18                Yes             8.0                 85                 0.37\n",
              "19                Yes             9.0                 36                 0.16\n",
              "10                Yes             0.0                  1                 0.00\n",
              "2                  No             2.0               4372                19.27\n",
              "1                  No             1.0               3172                13.98\n",
              "3                  No             3.0               2969                13.08\n",
              "4                  No             4.0               2707                11.93\n",
              "5                  No             5.0               2294                10.11\n",
              "6                  No             6.0               1752                 7.72\n",
              "7                  No             7.0               1196                 5.27\n",
              "8                  No             8.0                655                 2.89\n",
              "9                  No             9.0                316                 1.39\n",
              "0                  No             0.0                 26                 0.11"
            ]
          },
          "metadata": {
            "tags": []
          },
          "execution_count": 43
        },
        {
          "output_type": "display_data",
          "data": {
            "image/png": "[encoded data removed]",
            "text/plain": [
              "<Figure size 432x288 with 1 Axes>"
            ]
          },
          "metadata": {
            "tags": [],
            "needs_background": "light"
          }
        }
      ]
    },
    {
      "cell_type": "code",
      "metadata": {
        "id": "wbWoBV-05GmL",
        "colab_type": "code",
        "colab": {
          "base_uri": "https://localhost:8080/",
          "height": 627
        },
        "outputId": "5b9215b5-79d3-4e90-8aeb-cdda5b38497e"
      },
      "source": [
        "#8. marital status\n",
        "\n",
        "# used a stacked bar chart for visualization\n",
        "pd.crosstab(financial_cleaned['has_a_bank_account'], financial_cleaned['marital_status']).plot(kind='bar', stacked=True)\n",
        "\n",
        "# calculated the percentage of total individuals to standardize the data and help derive more meaningful insights\n",
        "bank_status = financial_cleaned[['has_a_bank_account', 'marital_status', 'uniqueid']]\n",
        "bank_status_grouped = bank_status.groupby(['has_a_bank_account', 'marital_status']).count().reset_index()\n",
        "bank_status_grouped.rename(columns={'uniqueid':'total_individuals'}, inplace=True)\n",
        "\n",
        "bank_status_grouped['%_total_individuals'] = round(bank_status_grouped ['total_individuals']/bank_status_grouped['total_individuals'].sum()*100, 2)\n",
        "bank_status_grouped.sort_values (by=['has_a_bank_account','%_total_individuals'],ascending =False)"
      ],
      "execution_count": 44,
      "outputs": [
        {
          "output_type": "execute_result",
          "data": {
            "text/html": [
              "<div>\n",
              "<style scoped>\n",
              "    .dataframe tbody tr th:only-of-type {\n",
              "        vertical-align: middle;\n",
              "    }\n",
              "\n",
              "    .dataframe tbody tr th {\n",
              "        vertical-align: top;\n",
              "    }\n",
              "\n",
              "    .dataframe thead th {\n",
              "        text-align: right;\n",
              "    }\n",
              "</style>\n",
              "<table border=\"1\" class=\"dataframe\">\n",
              "  <thead>\n",
              "    <tr style=\"text-align: right;\">\n",
              "      <th></th>\n",
              "      <th>has_a_bank_account</th>\n",
              "      <th>marital_status</th>\n",
              "      <th>total_individuals</th>\n",
              "      <th>%_total_individuals</th>\n",
              "    </tr>\n",
              "  </thead>\n",
              "  <tbody>\n",
              "    <tr>\n",
              "      <th>7</th>\n",
              "      <td>Yes</td>\n",
              "      <td>Married/Living together</td>\n",
              "      <td>1826</td>\n",
              "      <td>8.05</td>\n",
              "    </tr>\n",
              "    <tr>\n",
              "      <th>8</th>\n",
              "      <td>Yes</td>\n",
              "      <td>Single/Never Married</td>\n",
              "      <td>946</td>\n",
              "      <td>4.17</td>\n",
              "    </tr>\n",
              "    <tr>\n",
              "      <th>5</th>\n",
              "      <td>Yes</td>\n",
              "      <td>Divorced/Seperated</td>\n",
              "      <td>229</td>\n",
              "      <td>1.01</td>\n",
              "    </tr>\n",
              "    <tr>\n",
              "      <th>9</th>\n",
              "      <td>Yes</td>\n",
              "      <td>Widowed</td>\n",
              "      <td>230</td>\n",
              "      <td>1.01</td>\n",
              "    </tr>\n",
              "    <tr>\n",
              "      <th>6</th>\n",
              "      <td>Yes</td>\n",
              "      <td>Dont know</td>\n",
              "      <td>2</td>\n",
              "      <td>0.01</td>\n",
              "    </tr>\n",
              "    <tr>\n",
              "      <th>2</th>\n",
              "      <td>No</td>\n",
              "      <td>Married/Living together</td>\n",
              "      <td>8596</td>\n",
              "      <td>37.88</td>\n",
              "    </tr>\n",
              "    <tr>\n",
              "      <th>3</th>\n",
              "      <td>No</td>\n",
              "      <td>Single/Never Married</td>\n",
              "      <td>6798</td>\n",
              "      <td>29.96</td>\n",
              "    </tr>\n",
              "    <tr>\n",
              "      <th>4</th>\n",
              "      <td>No</td>\n",
              "      <td>Widowed</td>\n",
              "      <td>2261</td>\n",
              "      <td>9.96</td>\n",
              "    </tr>\n",
              "    <tr>\n",
              "      <th>0</th>\n",
              "      <td>No</td>\n",
              "      <td>Divorced/Seperated</td>\n",
              "      <td>1798</td>\n",
              "      <td>7.92</td>\n",
              "    </tr>\n",
              "    <tr>\n",
              "      <th>1</th>\n",
              "      <td>No</td>\n",
              "      <td>Dont know</td>\n",
              "      <td>6</td>\n",
              "      <td>0.03</td>\n",
              "    </tr>\n",
              "  </tbody>\n",
              "</table>\n",
              "</div>"
            ],
            "text/plain": [
              "  has_a_bank_account  ... %_total_individuals\n",
              "7                Yes  ...                8.05\n",
              "8                Yes  ...                4.17\n",
              "5                Yes  ...                1.01\n",
              "9                Yes  ...                1.01\n",
              "6                Yes  ...                0.01\n",
              "2                 No  ...               37.88\n",
              "3                 No  ...               29.96\n",
              "4                 No  ...                9.96\n",
              "0                 No  ...                7.92\n",
              "1                 No  ...                0.03\n",
              "\n",
              "[10 rows x 4 columns]"
            ]
          },
          "metadata": {
            "tags": []
          },
          "execution_count": 44
        },
        {
          "output_type": "display_data",
          "data": {
            "image/png": "[encoded data removed]",
            "text/plain": [
              "<Figure size 432x288 with 1 Axes>"
            ]
          },
          "metadata": {
            "tags": [],
            "needs_background": "light"
          }
        }
      ]
    },
    {
      "cell_type": "code",
      "metadata": {
        "id": "Z2F_fy2A5Dem",
        "colab_type": "code",
        "colab": {
          "base_uri": "https://localhost:8080/",
          "height": 565
        },
        "outputId": "1adc2e22-652b-4d79-f301-0871939dbd6e"
      },
      "source": [
        "#9. country\n",
        "\n",
        "# used a stacked bar chart for visualization\n",
        "pd.crosstab(financial_cleaned['has_a_bank_account'], financial_cleaned['country']).plot(kind='bar', stacked=True)\n",
        "\n",
        "# calculated the percentage of total individuals to standardize the data and help derive more meaningful insights\n",
        "bank_country = financial_cleaned[['has_a_bank_account', 'country', 'uniqueid']]\n",
        "bank_country_grouped = bank_country.groupby(['has_a_bank_account', 'country']).count().reset_index()\n",
        "bank_country_grouped.rename(columns={'uniqueid':'total_individuals'}, inplace=True)\n",
        "\n",
        "bank_country_grouped['%_total_individuals'] = round(bank_country_grouped ['total_individuals']/bank_country_grouped['total_individuals'].sum()*100, 2)\n",
        "bank_country_grouped.sort_values (by=['has_a_bank_account','%_total_individuals'],ascending =False)"
      ],
      "execution_count": 45,
      "outputs": [
        {
          "output_type": "execute_result",
          "data": {
            "text/html": [
              "<div>\n",
              "<style scoped>\n",
              "    .dataframe tbody tr th:only-of-type {\n",
              "        vertical-align: middle;\n",
              "    }\n",
              "\n",
              "    .dataframe tbody tr th {\n",
              "        vertical-align: top;\n",
              "    }\n",
              "\n",
              "    .dataframe thead th {\n",
              "        text-align: right;\n",
              "    }\n",
              "</style>\n",
              "<table border=\"1\" class=\"dataframe\">\n",
              "  <thead>\n",
              "    <tr style=\"text-align: right;\">\n",
              "      <th></th>\n",
              "      <th>has_a_bank_account</th>\n",
              "      <th>country</th>\n",
              "      <th>total_individuals</th>\n",
              "      <th>%_total_individuals</th>\n",
              "    </tr>\n",
              "  </thead>\n",
              "  <tbody>\n",
              "    <tr>\n",
              "      <th>4</th>\n",
              "      <td>Yes</td>\n",
              "      <td>Kenya</td>\n",
              "      <td>1490</td>\n",
              "      <td>6.57</td>\n",
              "    </tr>\n",
              "    <tr>\n",
              "      <th>5</th>\n",
              "      <td>Yes</td>\n",
              "      <td>Rwanda</td>\n",
              "      <td>979</td>\n",
              "      <td>4.31</td>\n",
              "    </tr>\n",
              "    <tr>\n",
              "      <th>6</th>\n",
              "      <td>Yes</td>\n",
              "      <td>Tanzania</td>\n",
              "      <td>598</td>\n",
              "      <td>2.64</td>\n",
              "    </tr>\n",
              "    <tr>\n",
              "      <th>7</th>\n",
              "      <td>Yes</td>\n",
              "      <td>Uganda</td>\n",
              "      <td>166</td>\n",
              "      <td>0.73</td>\n",
              "    </tr>\n",
              "    <tr>\n",
              "      <th>1</th>\n",
              "      <td>No</td>\n",
              "      <td>Rwanda</td>\n",
              "      <td>7517</td>\n",
              "      <td>33.13</td>\n",
              "    </tr>\n",
              "    <tr>\n",
              "      <th>2</th>\n",
              "      <td>No</td>\n",
              "      <td>Tanzania</td>\n",
              "      <td>5819</td>\n",
              "      <td>25.64</td>\n",
              "    </tr>\n",
              "    <tr>\n",
              "      <th>0</th>\n",
              "      <td>No</td>\n",
              "      <td>Kenya</td>\n",
              "      <td>4368</td>\n",
              "      <td>19.25</td>\n",
              "    </tr>\n",
              "    <tr>\n",
              "      <th>3</th>\n",
              "      <td>No</td>\n",
              "      <td>Uganda</td>\n",
              "      <td>1755</td>\n",
              "      <td>7.73</td>\n",
              "    </tr>\n",
              "  </tbody>\n",
              "</table>\n",
              "</div>"
            ],
            "text/plain": [
              "  has_a_bank_account   country  total_individuals  %_total_individuals\n",
              "4                Yes     Kenya               1490                 6.57\n",
              "5                Yes    Rwanda                979                 4.31\n",
              "6                Yes  Tanzania                598                 2.64\n",
              "7                Yes    Uganda                166                 0.73\n",
              "1                 No    Rwanda               7517                33.13\n",
              "2                 No  Tanzania               5819                25.64\n",
              "0                 No     Kenya               4368                19.25\n",
              "3                 No    Uganda               1755                 7.73"
            ]
          },
          "metadata": {
            "tags": []
          },
          "execution_count": 45
        },
        {
          "output_type": "display_data",
          "data": {
            "image/png": "[encoded data removed]",
            "text/plain": [
              "<Figure size 432x288 with 1 Axes>"
            ]
          },
          "metadata": {
            "tags": [],
            "needs_background": "light"
          }
        }
      ]
    },
    {
      "cell_type": "code",
      "metadata": {
        "id": "pQqylN6_vvDz",
        "colab_type": "code",
        "colab": {
          "base_uri": "https://localhost:8080/",
          "height": 503
        },
        "outputId": "56eb3376-c8fb-4034-fbd2-ce659e96c0ca"
      },
      "source": [
        "# 10. year\n",
        "\n",
        "# used a stacked bar chart for visualization\n",
        "pd.crosstab(financial_cleaned['has_a_bank_account'], financial_cleaned['year']).plot(kind='bar', stacked=True)\n",
        "\n",
        "# calculated the percentage of total individuals to standardize the data and help derive more meaningful insights\n",
        "bank_year = financial_cleaned[['has_a_bank_account', 'year', 'uniqueid']]\n",
        "bank_year_grouped = bank_year.groupby(['has_a_bank_account', 'year']).count().reset_index()\n",
        "bank_year_grouped.rename(columns={'uniqueid':'total_individuals'}, inplace=True)\n",
        "\n",
        "bank_year_grouped['%_total_individuals'] = round(bank_year_grouped ['total_individuals']/bank_year_grouped['total_individuals'].sum()*100, 2)\n",
        "bank_year_grouped.sort_values (by=['has_a_bank_account','%_total_individuals'],ascending =False)"
      ],
      "execution_count": 46,
      "outputs": [
        {
          "output_type": "execute_result",
          "data": {
            "text/html": [
              "<div>\n",
              "<style scoped>\n",
              "    .dataframe tbody tr th:only-of-type {\n",
              "        vertical-align: middle;\n",
              "    }\n",
              "\n",
              "    .dataframe tbody tr th {\n",
              "        vertical-align: top;\n",
              "    }\n",
              "\n",
              "    .dataframe thead th {\n",
              "        text-align: right;\n",
              "    }\n",
              "</style>\n",
              "<table border=\"1\" class=\"dataframe\">\n",
              "  <thead>\n",
              "    <tr style=\"text-align: right;\">\n",
              "      <th></th>\n",
              "      <th>has_a_bank_account</th>\n",
              "      <th>year</th>\n",
              "      <th>total_individuals</th>\n",
              "      <th>%_total_individuals</th>\n",
              "    </tr>\n",
              "  </thead>\n",
              "  <tbody>\n",
              "    <tr>\n",
              "      <th>5</th>\n",
              "      <td>Yes</td>\n",
              "      <td>2018</td>\n",
              "      <td>1656</td>\n",
              "      <td>7.30</td>\n",
              "    </tr>\n",
              "    <tr>\n",
              "      <th>3</th>\n",
              "      <td>Yes</td>\n",
              "      <td>2016</td>\n",
              "      <td>979</td>\n",
              "      <td>4.31</td>\n",
              "    </tr>\n",
              "    <tr>\n",
              "      <th>4</th>\n",
              "      <td>Yes</td>\n",
              "      <td>2017</td>\n",
              "      <td>598</td>\n",
              "      <td>2.64</td>\n",
              "    </tr>\n",
              "    <tr>\n",
              "      <th>0</th>\n",
              "      <td>No</td>\n",
              "      <td>2016</td>\n",
              "      <td>7517</td>\n",
              "      <td>33.13</td>\n",
              "    </tr>\n",
              "    <tr>\n",
              "      <th>2</th>\n",
              "      <td>No</td>\n",
              "      <td>2018</td>\n",
              "      <td>6123</td>\n",
              "      <td>26.98</td>\n",
              "    </tr>\n",
              "    <tr>\n",
              "      <th>1</th>\n",
              "      <td>No</td>\n",
              "      <td>2017</td>\n",
              "      <td>5819</td>\n",
              "      <td>25.64</td>\n",
              "    </tr>\n",
              "  </tbody>\n",
              "</table>\n",
              "</div>"
            ],
            "text/plain": [
              "  has_a_bank_account  year  total_individuals  %_total_individuals\n",
              "5                Yes  2018               1656                 7.30\n",
              "3                Yes  2016                979                 4.31\n",
              "4                Yes  2017                598                 2.64\n",
              "0                 No  2016               7517                33.13\n",
              "2                 No  2018               6123                26.98\n",
              "1                 No  2017               5819                25.64"
            ]
          },
          "metadata": {
            "tags": []
          },
          "execution_count": 46
        },
        {
          "output_type": "display_data",
          "data": {
            "image/png": "[encoded data removed]",
            "text/plain": [
              "<Figure size 432x288 with 1 Axes>"
            ]
          },
          "metadata": {
            "tags": [],
            "needs_background": "light"
          }
        }
      ]
    },
    {
      "cell_type": "code",
      "metadata": {
        "id": "KrTg0zGlwEPa",
        "colab_type": "code",
        "colab": {
          "base_uri": "https://localhost:8080/",
          "height": 688
        },
        "outputId": "11c63936-32ba-442b-cffc-2bc161f48bce"
      },
      "source": [
        "# relationship with head of household\n",
        "\n",
        "# used a stacked bar chart for visualization\n",
        "\n",
        "pd.crosstab(financial_cleaned['has_a_bank_account'], financial_cleaned['relationship_with_head']).plot(kind='bar', stacked=True)\n",
        "\n",
        "# calculated the percentage of total individuals to standardize the data and help derive more meaningful insights\n",
        "bank_rhead = financial_cleaned[['has_a_bank_account', 'relationship_with_head', 'uniqueid']]\n",
        "bank_rhead_grouped = bank_rhead.groupby(['has_a_bank_account', 'relationship_with_head']).count().reset_index()\n",
        "bank_rhead_grouped.rename(columns={'uniqueid':'total_individuals'}, inplace=True)\n",
        "\n",
        "bank_rhead_grouped['%_total_individuals'] = round(bank_rhead_grouped ['total_individuals']/bank_rhead_grouped['total_individuals'].sum()*100, 2)\n",
        "bank_rhead_grouped.sort_values (by=['has_a_bank_account','%_total_individuals'],ascending =False)"
      ],
      "execution_count": 47,
      "outputs": [
        {
          "output_type": "execute_result",
          "data": {
            "text/html": [
              "<div>\n",
              "<style scoped>\n",
              "    .dataframe tbody tr th:only-of-type {\n",
              "        vertical-align: middle;\n",
              "    }\n",
              "\n",
              "    .dataframe tbody tr th {\n",
              "        vertical-align: top;\n",
              "    }\n",
              "\n",
              "    .dataframe thead th {\n",
              "        text-align: right;\n",
              "    }\n",
              "</style>\n",
              "<table border=\"1\" class=\"dataframe\">\n",
              "  <thead>\n",
              "    <tr style=\"text-align: right;\">\n",
              "      <th></th>\n",
              "      <th>has_a_bank_account</th>\n",
              "      <th>relationship_with_head</th>\n",
              "      <th>total_individuals</th>\n",
              "      <th>%_total_individuals</th>\n",
              "    </tr>\n",
              "  </thead>\n",
              "  <tbody>\n",
              "    <tr>\n",
              "      <th>7</th>\n",
              "      <td>Yes</td>\n",
              "      <td>Head of Household</td>\n",
              "      <td>2219</td>\n",
              "      <td>9.78</td>\n",
              "    </tr>\n",
              "    <tr>\n",
              "      <th>11</th>\n",
              "      <td>Yes</td>\n",
              "      <td>Spouse</td>\n",
              "      <td>688</td>\n",
              "      <td>3.03</td>\n",
              "    </tr>\n",
              "    <tr>\n",
              "      <th>6</th>\n",
              "      <td>Yes</td>\n",
              "      <td>Child</td>\n",
              "      <td>185</td>\n",
              "      <td>0.82</td>\n",
              "    </tr>\n",
              "    <tr>\n",
              "      <th>9</th>\n",
              "      <td>Yes</td>\n",
              "      <td>Other relative</td>\n",
              "      <td>64</td>\n",
              "      <td>0.28</td>\n",
              "    </tr>\n",
              "    <tr>\n",
              "      <th>10</th>\n",
              "      <td>Yes</td>\n",
              "      <td>Parent</td>\n",
              "      <td>58</td>\n",
              "      <td>0.26</td>\n",
              "    </tr>\n",
              "    <tr>\n",
              "      <th>8</th>\n",
              "      <td>Yes</td>\n",
              "      <td>Other non-relatives</td>\n",
              "      <td>19</td>\n",
              "      <td>0.08</td>\n",
              "    </tr>\n",
              "    <tr>\n",
              "      <th>1</th>\n",
              "      <td>No</td>\n",
              "      <td>Head of Household</td>\n",
              "      <td>10155</td>\n",
              "      <td>44.75</td>\n",
              "    </tr>\n",
              "    <tr>\n",
              "      <th>5</th>\n",
              "      <td>No</td>\n",
              "      <td>Spouse</td>\n",
              "      <td>5670</td>\n",
              "      <td>24.99</td>\n",
              "    </tr>\n",
              "    <tr>\n",
              "      <th>0</th>\n",
              "      <td>No</td>\n",
              "      <td>Child</td>\n",
              "      <td>1945</td>\n",
              "      <td>8.57</td>\n",
              "    </tr>\n",
              "    <tr>\n",
              "      <th>4</th>\n",
              "      <td>No</td>\n",
              "      <td>Parent</td>\n",
              "      <td>952</td>\n",
              "      <td>4.20</td>\n",
              "    </tr>\n",
              "    <tr>\n",
              "      <th>3</th>\n",
              "      <td>No</td>\n",
              "      <td>Other relative</td>\n",
              "      <td>576</td>\n",
              "      <td>2.54</td>\n",
              "    </tr>\n",
              "    <tr>\n",
              "      <th>2</th>\n",
              "      <td>No</td>\n",
              "      <td>Other non-relatives</td>\n",
              "      <td>161</td>\n",
              "      <td>0.71</td>\n",
              "    </tr>\n",
              "  </tbody>\n",
              "</table>\n",
              "</div>"
            ],
            "text/plain": [
              "   has_a_bank_account  ... %_total_individuals\n",
              "7                 Yes  ...                9.78\n",
              "11                Yes  ...                3.03\n",
              "6                 Yes  ...                0.82\n",
              "9                 Yes  ...                0.28\n",
              "10                Yes  ...                0.26\n",
              "8                 Yes  ...                0.08\n",
              "1                  No  ...               44.75\n",
              "5                  No  ...               24.99\n",
              "0                  No  ...                8.57\n",
              "4                  No  ...                4.20\n",
              "3                  No  ...                2.54\n",
              "2                  No  ...                0.71\n",
              "\n",
              "[12 rows x 4 columns]"
            ]
          },
          "metadata": {
            "tags": []
          },
          "execution_count": 47
        },
        {
          "output_type": "display_data",
          "data": {
            "image/png": "[encoded data removed]",
            "text/plain": [
              "<Figure size 432x288 with 1 Axes>"
            ]
          },
          "metadata": {
            "tags": [],
            "needs_background": "light"
          }
        }
      ]
    },
    {
      "cell_type": "markdown",
      "metadata": {
        "id": "_aCrOLbywVbC",
        "colab_type": "text"
      },
      "source": [
        "## Bivariate Analysis observations/conclusions\n",
        "\n",
        "### 1. "
      ]
    },
    {
      "cell_type": "code",
      "metadata": {
        "id": "xV6yDROzFEmS",
        "colab_type": "code",
        "colab": {
          "base_uri": "https://localhost:8080/",
          "height": 567
        },
        "outputId": "e146e98e-852f-49a9-ffb9-7880571d1cc3"
      },
      "source": [
        "# Plotting the bivariate summaries and recording our observations\n",
        "sns.pairplot(financial_cleaned)\n",
        "plt.show()"
      ],
      "execution_count": 48,
      "outputs": [
        {
          "output_type": "display_data",
          "data": {
            "image/png": "[encoded data removed]",
            "text/plain": [
              "<Figure size 540x540 with 12 Axes>"
            ]
          },
          "metadata": {
            "tags": [],
            "needs_background": "light"
          }
        }
      ]
    },
    {
      "cell_type": "markdown",
      "metadata": {
        "id": "mo9zLWuQEsQ2",
        "colab_type": "text"
      },
      "source": [
        "#SECTION 6: Multivariate Analysis"
      ]
    },
    {
      "cell_type": "markdown",
      "metadata": {
        "id": "_VYztF946xJh",
        "colab_type": "text"
      },
      "source": [
        "#**Section 7:** Challenging the data\n",
        "\n",
        "1. Majority of individuals surveyed were from rural areas, and yet, majority of the banks are located in the urban areas"
      ]
    }
  ]
}